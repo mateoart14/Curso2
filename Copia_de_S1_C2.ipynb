{
  "nbformat": 4,
  "nbformat_minor": 0,
  "metadata": {
    "kernelspec": {
      "name": "python3",
      "display_name": "Python 3"
    },
    "language_info": {
      "codemirror_mode": {
        "name": "ipython",
        "version": 3
      },
      "file_extension": ".py",
      "mimetype": "text/x-python",
      "name": "python",
      "nbconvert_exporter": "python",
      "pygments_lexer": "ipython3",
      "version": "3.7.3"
    },
    "colab": {
      "provenance": [],
      "collapsed_sections": [],
      "include_colab_link": true
    },
    "accelerator": "GPU"
  },
  "cells": [
    {
      "cell_type": "markdown",
      "metadata": {
        "id": "view-in-github",
        "colab_type": "text"
      },
      "source": [
        "<a href=\"https://colab.research.google.com/github/mateoart14/Curso2/blob/MateoArteagaReporte/Copia_de_S1_C2.ipynb\" target=\"_parent\"><img src=\"https://colab.research.google.com/assets/colab-badge.svg\" alt=\"Open In Colab\"/></a>"
      ]
    },
    {
      "cell_type": "markdown",
      "metadata": {
        "id": "fRpL-93u1dIy"
      },
      "source": [
        "<p><img alt=\"Colaboratory logo\" height=\"140px\" src=\"https://upload.wikimedia.org/wikipedia/commons/archive/f/fb/20161010213812%21Escudo-UdeA.svg\" align=\"left\" hspace=\"10px\" vspace=\"0px\"></p>\n",
        "\n",
        "<h1> Diplomado de Análisis de datos y Machine Learning en Python</h1>\n",
        "\n",
        "\n",
        "El presente diplomado hace parte del centro de Big Data de la facultad de ciencias exactas y naturales (FCEN) de la Universidad de Antioquia."
      ]
    },
    {
      "cell_type": "markdown",
      "metadata": {
        "id": "sYkr79uu_Lp-"
      },
      "source": [
        "## Más Recursos\n",
        "\n",
        "Recursos para aprender como usar Python, Jupyter y Colaboratory:\n",
        "\n",
        "### Trabajando con Notebooks del Colaboratory\n",
        "- [Introducción a Colaboratory](/notebooks/basic_features_overview.ipynb)\n",
        "- [Guía de  Markdown](/notebooks/markdown_guide.ipynb)\n",
        "- [Importar Librerías e Instalar Dependencias](/notebooks/snippets/importing_libraries.ipynb)\n",
        "- [Guardar y cargar cuadernos en GitHub](https://colab.research.google.com/github/googlecolab/colabtools/blob/master/notebooks/colab-github-demo.ipynb)\n",
        "- [Formularios Interactivos](/notebooks/forms.ipynb)\n",
        "- [Widgets Interactivos](/notebooks/widgets.ipynb)\n",
        "\n",
        "### Trabajando con Datos\n",
        "- [Cargar datos desde: Drive, Sheets y Google Cloud Storage](/notebooks/io.ipynb) \n",
        "- [Gráficas: Visualizar los Datos](/notebooks/charts.ipynb)\n",
        "- [Introducción a BigQuery](/notebooks/bigquery.ipynb)\n",
        "\n",
        "### Introducción al Aprendizaje Automático\n",
        "Estos son algunos notebooks del curso virtual de google sobre aprendizaje automático. Ver la [página web del curso](https://developers.google.com/machine-learning/crash-course/) para obtener más información.\n",
        "- [Introducción a Pandas](/notebooks/mlcc/intro_to_pandas.ipynb)\n",
        "- [Conceptos de Tensorflow](/notebooks/mlcc/tensorflow_programming_concepts.ipynb)\n",
        "- [Primeros pasos con TensorFlow](/notebooks/mlcc/first_steps_with_tensor_flow.ipynb)\n",
        "- [Introducción a Redes Neuronales](/notebooks/mlcc/intro_to_neural_nets.ipynb)\n",
        "- [Introducción a datos escasos y embebimientos](/notebooks/mlcc/intro_to_sparse_data_and_embeddings.ipynb)\n",
        "\n",
        "### Hardware para cálculo en paralelo\n",
        "- [TensorFlow con GPUs](/notebooks/gpu.ipynb)\n",
        "- [TensorFlow con TPUs](/notebooks/tpu.ipynb)"
      ]
    },
    {
      "cell_type": "markdown",
      "metadata": {
        "id": "9s7P2aLmTeKo"
      },
      "source": [
        "#Repaso de Tensores:\n",
        "\n",
        "Aunque no hayamos visto la definición de \"tensores\" en el curso 1, si que hemos trabajado con ellos haciendo referecia a ellos como arrays o arreglos."
      ]
    },
    {
      "cell_type": "markdown",
      "metadata": {
        "id": "vOK_YBu5EIgX"
      },
      "source": [
        "## Representaciones de datos en NN:\n",
        "\n",
        "En el ejemplo anterior, partimos de datos almacenados en arreglos multidimensionales de `numpy`, los cuales se conocen con el nombre de *tensores*. En general, todos los algoritmos de ML usan tensores como estructura base de los datos, siendo un campo fundamental de éstos. \n",
        "\n",
        "En esencia, un tensor es un contenedor de datos, casi siempre datos numéricos. Por ejemplo, estamos familiarizados con las matrices, que son tensores 2D: los tensores son una generalización de matrices a un número arbitrario de dimensiones (a una dimensión a menudo se denomina eje). "
      ]
    },
    {
      "cell_type": "markdown",
      "metadata": {
        "id": "INRNs5fGYeUX"
      },
      "source": [
        "## Escalares (Tensores 0D)\n",
        "\n",
        "Un tensor que contiene un solo número se le llama escalar, tensor escalar, tensor 0-dimensional ó 0D tensor. En `numpy` se tiene:\n",
        "\n",
        "- float32 o float64.\n",
        "- int 32 o int 64.\n",
        "\n",
        "Recordemos"
      ]
    },
    {
      "cell_type": "code",
      "metadata": {
        "id": "i5_4p9KKYas8",
        "colab": {
          "base_uri": "https://localhost:8080/"
        },
        "outputId": "e7ec1f90-1ab5-4760-ee39-d30410f08fb9"
      },
      "source": [
        "# Array \n",
        "import numpy as np\n",
        "\n",
        "x0 = np.array(12)\n",
        "x0.ndim"
      ],
      "execution_count": null,
      "outputs": [
        {
          "output_type": "execute_result",
          "data": {
            "text/plain": [
              "0"
            ]
          },
          "metadata": {},
          "execution_count": 2
        }
      ]
    },
    {
      "cell_type": "markdown",
      "metadata": {
        "id": "ggx_9v6VZrIR"
      },
      "source": [
        "# Vectores (Tensores 1D)\n",
        "\n",
        "A un array de número se le llama vector, o tensor 1D. Decimo entonces que un tensor 1D tiene exactamente 1 eje. \n",
        "\n",
        "En `numpy` lo definimos como:"
      ]
    },
    {
      "cell_type": "code",
      "metadata": {
        "id": "tH3QK1s_aBl6",
        "colab": {
          "base_uri": "https://localhost:8080/"
        },
        "outputId": "5d834194-a511-463f-f386-0ab579d6d248"
      },
      "source": [
        "x1 = np.array([12, 3, 6, 14])\n",
        "x1"
      ],
      "execution_count": null,
      "outputs": [
        {
          "output_type": "execute_result",
          "data": {
            "text/plain": [
              "array([12,  3,  6, 14])"
            ]
          },
          "metadata": {},
          "execution_count": 3
        }
      ]
    },
    {
      "cell_type": "code",
      "metadata": {
        "id": "mYgflQt5aFJt",
        "colab": {
          "base_uri": "https://localhost:8080/"
        },
        "outputId": "3253314b-0756-4616-d1c0-5ffd25eefc31"
      },
      "source": [
        "x1.ndim"
      ],
      "execution_count": null,
      "outputs": [
        {
          "output_type": "execute_result",
          "data": {
            "text/plain": [
              "1"
            ]
          },
          "metadata": {},
          "execution_count": 4
        }
      ]
    },
    {
      "cell_type": "markdown",
      "metadata": {
        "id": "zdqhaDB1aIyO"
      },
      "source": [
        "El anterior vector tiene 5 entradas, por lo tanto es llamado *vector 5-dimensional*. La *dimensionalidad* puede denotar, tanto el numero de entradas a lo larco de un eje específico, o el número de ejes en un tensor.  En el caso anterior, y para evitar confusiones con los tensor 5D, es mejor referirnos éste como *tensor de rango 5*. "
      ]
    },
    {
      "cell_type": "markdown",
      "metadata": {
        "id": "u35oVnz-bPay"
      },
      "source": [
        "## Matrices (Tensores 2D)\n",
        "\n",
        "Un arreglo de vectores es una matriz, un un tensor 2D. Una matriz tiene dos ejes, a los cuales nos referimos comúnmente como filas y columnas. Una matriz representa, visualmente, una malla rectancular de números.\n",
        "\n",
        "En numpy se define como:"
      ]
    },
    {
      "cell_type": "code",
      "metadata": {
        "id": "PcbO9GFCbxJ7",
        "colab": {
          "base_uri": "https://localhost:8080/"
        },
        "outputId": "49e86035-efdf-48de-a64a-b7e2e13d3fbc"
      },
      "source": [
        "x2 = np.array([[5, 78, 2, 34, 0],\n",
        "[6, 79, 3, 35, 1],\n",
        "[7, 80, 4, 36, 2]])\n",
        "x2.ndim"
      ],
      "execution_count": null,
      "outputs": [
        {
          "output_type": "execute_result",
          "data": {
            "text/plain": [
              "2"
            ]
          },
          "metadata": {},
          "execution_count": 5
        }
      ]
    },
    {
      "cell_type": "markdown",
      "metadata": {
        "id": "5NbBjUqxbydT"
      },
      "source": [
        "Recordemos que a las entradas del primer eje se le llaman fillas y las entradas del segundo eje, columnas. "
      ]
    },
    {
      "cell_type": "markdown",
      "metadata": {
        "id": "eNFNQx4LcHfa"
      },
      "source": [
        "## Tensores 3D y tensores de dimensión mayor:\n",
        "\n",
        "Si agrupamos matríces de dimensiones iguales hablamos de un tensor 3D, que puede interpretarse, visualmente como un cubo de numeros. \n",
        "\n",
        "En numpy se define como:"
      ]
    },
    {
      "cell_type": "code",
      "metadata": {
        "id": "LmSFrOFTcqMT",
        "colab": {
          "base_uri": "https://localhost:8080/"
        },
        "outputId": "3f72a3f4-f9bc-4570-fdd5-48f7fdfd3567"
      },
      "source": [
        "x3 = np.array([[[5, 78, 2, 34, 0],\n",
        "[6, 79, 3, 35, 1],\n",
        "[7, 80, 4, 36, 2]],\n",
        "[[5, 78, 2, 34, 0],\n",
        "[6, 79, 3, 35, 1],\n",
        "[7, 80, 4, 36, 2]],\n",
        "[[5, 78, 2, 34, 0],\n",
        "[6, 79, 3, 35, 1],\n",
        "[7, 80, 4, 36, 2]]])\n",
        "\n",
        "x3.ndim"
      ],
      "execution_count": null,
      "outputs": [
        {
          "output_type": "execute_result",
          "data": {
            "text/plain": [
              "3"
            ]
          },
          "metadata": {},
          "execution_count": 6
        }
      ]
    },
    {
      "cell_type": "markdown",
      "metadata": {
        "id": "3Lr_WRNKc2R0"
      },
      "source": [
        "Al agrupar tensores 3D en una arreglo, podemos crear tensores 4D, y así sucesivamente. En deep learning se trabajará con tensores de rango 0 a 4, y en caso como el procesamiento de videos, puede llegarse a tensores de rango 5."
      ]
    },
    {
      "cell_type": "markdown",
      "metadata": {
        "id": "iVma5hgrdaH_"
      },
      "source": [
        "### Atributos claves:\n",
        " Un tensor se encuentra determinado por tres atributos:\n",
        "\n",
        " * *Numero de ejes*: (rango): `ndim`.\n",
        " * *Forma*: que en python es una tupla de enteros que describe cuantas dimensiones tienen el tensor a lo largo de cada eje.  A este atributo se accede mediante `shape`.\n",
        " * *Data type*: Corresponde a los tipos de datos que contiene el tensor y se accede a mediante el atributo `dtype`."
      ]
    },
    {
      "cell_type": "code",
      "metadata": {
        "id": "aXYbKDhugLos",
        "colab": {
          "base_uri": "https://localhost:8080/"
        },
        "outputId": "1fccbdbe-4819-41d3-b817-9ac17167c1fb"
      },
      "source": [
        "print(\"Dimensión:\", x3.ndim)\n",
        "print(\"Forma\", x3.shape)\n",
        "print(\"Tipo de datos: \", x3.dtype)"
      ],
      "execution_count": null,
      "outputs": [
        {
          "output_type": "stream",
          "name": "stdout",
          "text": [
            "Dimensión: 3\n",
            "Forma (3, 3, 5)\n",
            "Tipo de datos:  int64\n"
          ]
        }
      ]
    },
    {
      "cell_type": "markdown",
      "metadata": {
        "id": "Fg1mMdqFhKA1"
      },
      "source": [
        "Veamos un ejemplo concreto de una base de datos MNIST de `keras`:"
      ]
    },
    {
      "cell_type": "code",
      "metadata": {
        "id": "mnTUqSzYhVyf",
        "colab": {
          "base_uri": "https://localhost:8080/"
        },
        "outputId": "58ae3060-5182-44cb-a2ac-17c6988d02e9"
      },
      "source": [
        "from keras.datasets import mnist\n",
        "(train_images, train_labels), (test_images, test_labels) = mnist.load_data()"
      ],
      "execution_count": null,
      "outputs": [
        {
          "output_type": "stream",
          "name": "stdout",
          "text": [
            "Downloading data from https://storage.googleapis.com/tensorflow/tf-keras-datasets/mnist.npz\n",
            "11493376/11490434 [==============================] - 0s 0us/step\n",
            "11501568/11490434 [==============================] - 0s 0us/step\n"
          ]
        }
      ]
    },
    {
      "cell_type": "markdown",
      "source": [
        "http://yann.lecun.com/exdb/mnist/ "
      ],
      "metadata": {
        "id": "wSbzlaPamusO"
      }
    },
    {
      "cell_type": "code",
      "metadata": {
        "id": "MPwFNerwhbam",
        "colab": {
          "base_uri": "https://localhost:8080/"
        },
        "outputId": "6dcf1eab-8518-4ab5-d85f-9eac7819fb51"
      },
      "source": [
        "print(train_images.ndim)"
      ],
      "execution_count": null,
      "outputs": [
        {
          "output_type": "stream",
          "name": "stdout",
          "text": [
            "3\n"
          ]
        }
      ]
    },
    {
      "cell_type": "code",
      "metadata": {
        "id": "57t7NVe0hfpt",
        "colab": {
          "base_uri": "https://localhost:8080/"
        },
        "outputId": "6fa58280-d05e-4c71-b942-acd8299f2f06"
      },
      "source": [
        "print(train_images.shape)"
      ],
      "execution_count": null,
      "outputs": [
        {
          "output_type": "stream",
          "name": "stdout",
          "text": [
            "(60000, 28, 28)\n"
          ]
        }
      ]
    },
    {
      "cell_type": "code",
      "metadata": {
        "id": "KCXnc8xjhjXY",
        "colab": {
          "base_uri": "https://localhost:8080/"
        },
        "outputId": "0d9d1732-b2ba-46de-8599-841c726963bc"
      },
      "source": [
        "print(train_images.dtype)"
      ],
      "execution_count": null,
      "outputs": [
        {
          "output_type": "stream",
          "name": "stdout",
          "text": [
            "uint8\n"
          ]
        }
      ]
    },
    {
      "cell_type": "markdown",
      "metadata": {
        "id": "Tj8dy8h0hmaI"
      },
      "source": [
        "A continuación se resume la característica del dataset:\n",
        "\n",
        "* Tensor 3D\n",
        "* Tipos de datos: enteros de 8-bits.  "
      ]
    },
    {
      "cell_type": "markdown",
      "metadata": {
        "id": "LIQscMwDiHnQ"
      },
      "source": [
        "Visualicemos una imágen:"
      ]
    },
    {
      "cell_type": "code",
      "metadata": {
        "id": "D0Yca-i-iGxa",
        "colab": {
          "base_uri": "https://localhost:8080/",
          "height": 265
        },
        "outputId": "c4b2627e-3c3c-4a59-beeb-3b3f7666569f"
      },
      "source": [
        "digit = train_images[9]\n",
        "import matplotlib.pyplot as plt\n",
        "plt.imshow(digit, cmap=plt.cm.binary)\n",
        "plt.show()"
      ],
      "execution_count": null,
      "outputs": [
        {
          "output_type": "display_data",
          "data": {
            "text/plain": [
              "<Figure size 432x288 with 1 Axes>"
            ],
            "image/png": "[encoded data removed]"
          },
          "metadata": {
            "needs_background": "light"
          }
        }
      ]
    },
    {
      "cell_type": "code",
      "source": [
        "digit[0][25]=100\n",
        "plt.imshow(digit, cmap=plt.cm.binary)\n",
        "plt.show()"
      ],
      "metadata": {
        "id": "4S12FtVerTUU",
        "outputId": "29e2df01-060f-4356-8913-34c501e8e6dc",
        "colab": {
          "base_uri": "https://localhost:8080/",
          "height": 265
        }
      },
      "execution_count": null,
      "outputs": [
        {
          "output_type": "display_data",
          "data": {
            "text/plain": [
              "<Figure size 432x288 with 1 Axes>"
            ],
            "image/png": "[encoded data removed]"
          },
          "metadata": {
            "needs_background": "light"
          }
        }
      ]
    },
    {
      "cell_type": "markdown",
      "metadata": {
        "id": "_rqX_EVz9xyg"
      },
      "source": [
        "##Manipulación de tensores en Numpy:\n",
        "\n",
        "En el ejeumplo anterior se selecionó un digito específico a junto al primer eje usando la sintaxis train_images [i]. La selección de elementos específicos en un tensor se denomina corte de \"tensor slicing\". Veamos las operaciones de \"tensor slicing\" que puede hacerse con los arreglos de `numpy`.\n",
        "\n",
        "Para selecionar los digitos de 10 a 100 (si incluir el 100) hacemos:\n"
      ]
    },
    {
      "cell_type": "code",
      "metadata": {
        "id": "VYnMcF10t-A_",
        "colab": {
          "base_uri": "https://localhost:8080/"
        },
        "outputId": "ce90964c-7d4f-4ed2-8ad6-27a875f31f17"
      },
      "source": [
        "my_slice = train_images[10:100]\n",
        "print(my_slice.shape)"
      ],
      "execution_count": null,
      "outputs": [
        {
          "output_type": "stream",
          "name": "stdout",
          "text": [
            "(90, 28, 28)\n"
          ]
        }
      ]
    },
    {
      "cell_type": "markdown",
      "metadata": {
        "id": "DOAHtmSTj9dF"
      },
      "source": [
        "La anterior operación es equivalente a la selección de todas las dimensiones de los ejes mediante : "
      ]
    },
    {
      "cell_type": "code",
      "metadata": {
        "id": "OtaawkhTj8rN",
        "colab": {
          "base_uri": "https://localhost:8080/"
        },
        "outputId": "833ee7fd-e33b-42dd-9611-a931010d83c3"
      },
      "source": [
        "my_slice = train_images[10:100, :, :]\n",
        "my_slice.shape"
      ],
      "execution_count": null,
      "outputs": [
        {
          "output_type": "execute_result",
          "data": {
            "text/plain": [
              "(90, 28, 28)"
            ]
          },
          "metadata": {},
          "execution_count": 15
        }
      ]
    },
    {
      "cell_type": "markdown",
      "metadata": {
        "id": "95tIZ2ogk0jz"
      },
      "source": [
        "Y lo anterior es equivalenta a"
      ]
    },
    {
      "cell_type": "code",
      "metadata": {
        "id": "hGN5QWHO-8da",
        "colab": {
          "base_uri": "https://localhost:8080/"
        },
        "outputId": "26418049-ca5d-4214-f26b-5c5caa11af22"
      },
      "source": [
        "my_slice = train_images[10:100, 0:28, 0:28]\n",
        "my_slice.shape"
      ],
      "execution_count": null,
      "outputs": [
        {
          "output_type": "execute_result",
          "data": {
            "text/plain": [
              "(90, 28, 28)"
            ]
          },
          "metadata": {},
          "execution_count": 16
        }
      ]
    },
    {
      "cell_type": "markdown",
      "metadata": {
        "id": "CygbcMkslExN"
      },
      "source": [
        "De forma general, podemos seleccionar entre dos índices cualquiera a lo largo de un eje del tensor."
      ]
    },
    {
      "cell_type": "markdown",
      "metadata": {
        "id": "NPO4933FVstH"
      },
      "source": [
        "## Problema:\n",
        "\n",
        "Dentro del conjunto de datos, seleccióne la esquina inferior que contenga $14\\times14$ píxeles en cada una de las imágenes y visualice una de ellas. "
      ]
    },
    {
      "cell_type": "markdown",
      "metadata": {
        "id": "udTRsst1WEa8"
      },
      "source": [
        "Haga click **aquí** si tiene problemas con la solución.\n",
        "\n",
        "\n",
        "\n",
        "\n",
        "<!----:\n",
        "# solución:\n",
        "my_slice_corner = train_images[:, 14:, 14:]\n",
        "\n",
        "digit = my_slice_corner[3]\n",
        "import matplotlib.pyplot as plt\n",
        "plt.imshow(digit, cmap=plt.cm.binary)\n",
        "plt.show()\n",
        "\n",
        "----->"
      ]
    },
    {
      "cell_type": "code",
      "source": [
        "digit = my_slice[3]\n",
        "import matplotlib.pyplot as plt\n",
        "plt.imshow(digit, cmap=plt.cm.binary)\n",
        "plt.show()"
      ],
      "metadata": {
        "colab": {
          "base_uri": "https://localhost:8080/",
          "height": 265
        },
        "id": "iSRFKbdrMVK7",
        "outputId": "6c8bafa4-8c85-4a27-994f-f619e0e7dd63"
      },
      "execution_count": null,
      "outputs": [
        {
          "output_type": "display_data",
          "data": {
            "text/plain": [
              "<Figure size 432x288 with 1 Axes>"
            ],
            "image/png": "[encoded data removed]"
          },
          "metadata": {
            "needs_background": "light"
          }
        }
      ]
    },
    {
      "cell_type": "markdown",
      "metadata": {
        "id": "yJEuaDubnwYC"
      },
      "source": [
        "Recordemos que también es posible usar índices negativos. Los índices negativos indican una posición relativa al final del eje en cuestión. Recorte, por ejemplo, las imagenes anteriores para que queden centradas en matríces de 14x14."
      ]
    },
    {
      "cell_type": "markdown",
      "metadata": {
        "id": "sJ0THWkIW3mU"
      },
      "source": [
        "Haga click **aquí** si tiene problemas con la solución:\n",
        "\n",
        "\n",
        "<!-----\n",
        "my_crop_slices_centered = train_images[:, 7:-7, 7:-7]\n",
        "\n",
        "digit = my_crop_slices_centered[0]\n",
        "import matplotlib.pyplot as plt\n",
        "plt.imshow(digit, cmap=plt.cm.binary)\n",
        "plt.show()\n",
        "----->"
      ]
    },
    {
      "cell_type": "code",
      "source": [
        "digit = my_slice[-3]\n",
        "import matplotlib.pyplot as plt\n",
        "plt.imshow(digit, cmap=plt.cm.binary)\n",
        "plt.show()"
      ],
      "metadata": {
        "colab": {
          "base_uri": "https://localhost:8080/",
          "height": 265
        },
        "id": "ZC-ZZdANM19E",
        "outputId": "b367977e-8cd7-4577-ad22-4fee573d0b30"
      },
      "execution_count": null,
      "outputs": [
        {
          "output_type": "display_data",
          "data": {
            "text/plain": [
              "<Figure size 432x288 with 1 Axes>"
            ],
            "image/png": "[encoded data removed]"
          },
          "metadata": {
            "needs_background": "light"
          }
        }
      ]
    },
    {
      "cell_type": "code",
      "source": [
        "my_slice2 = train_images[:, -15:-1, -15:-1]\n",
        "digit = my_slice2[5]\n",
        "import matplotlib.pyplot as plt\n",
        "plt.imshow(digit, cmap=plt.cm.binary)\n",
        "plt.show()"
      ],
      "metadata": {
        "id": "MI_6Tz6PlBpv",
        "outputId": "fd74b419-3c9a-4499-a411-c27d3bfa6a93",
        "colab": {
          "base_uri": "https://localhost:8080/",
          "height": 265
        }
      },
      "execution_count": null,
      "outputs": [
        {
          "output_type": "display_data",
          "data": {
            "text/plain": [
              "<Figure size 432x288 with 1 Axes>"
            ],
            "image/png": "[encoded data removed]"
          },
          "metadata": {
            "needs_background": "light"
          }
        }
      ]
    },
    {
      "cell_type": "markdown",
      "metadata": {
        "id": "jUwNhpzGqokI"
      },
      "source": [
        "## Noción de batches\n",
        "\n",
        "En general, el primer eje (eje 0, ya que la indexación comienza en 0) de todos los  tensores de datos que encuentre en DLserá el eje de muestras (a veces denominado dimensión de muestras). En el ejemplo MNIST, las muestras son imágenes de dígitos.\n",
        "\n",
        "Además, los modelos de DL no procesan un conjunto de datos completo a la vez; en su lugar, dividen los datos en pequeños lotes. Por ejemplo:"
      ]
    },
    {
      "cell_type": "code",
      "metadata": {
        "id": "BuguJS75o1dZ"
      },
      "source": [
        "batch1 = train_images[:128]\n",
        "batch2 = train_images[128:256]"
      ],
      "execution_count": null,
      "outputs": []
    },
    {
      "cell_type": "markdown",
      "metadata": {
        "id": "NMBoiNwEruDa"
      },
      "source": [
        "El n-ésimo batch sería:\n",
        "\n",
        "$$\\text{batch} = \\text{train_images}[128 * n:128 * (n + 1)]$$"
      ]
    },
    {
      "cell_type": "markdown",
      "metadata": {
        "id": "K5YeeKTsslcr"
      },
      "source": [
        "Cuando considere un tensor batch, el primer eje (eje 0) es conocido como la dimensión del batch. Este término es comun mente usado en Keras y otras librerías de DL."
      ]
    },
    {
      "cell_type": "markdown",
      "metadata": {
        "id": "c4JDA6TSXYr-"
      },
      "source": [
        "## Ejemplo reales de tensores:\n",
        "\n",
        "* *Vector de datos:* Tensor 2D de forma `(samples,features)`.\n",
        "\n",
        "* *Datos de series de tiempos o secuencias:* Tensor 3D de forma `(samples, timesteps, features)`.\n",
        "\n",
        "* *Imágenes:* Tensores 4D de forma `(samples,height,width,channels)` o `(samples,channels,height,width)`.\n",
        "\n",
        "* *Videos:* Tensores 5D de forma `(samples,frames, height,width,channels)` o `(samples, height,frames,channels,height,width)`. "
      ]
    },
    {
      "cell_type": "markdown",
      "metadata": {
        "id": "rDoRrYjBTxuF"
      },
      "source": [
        "# Repaso de Funciones y Clases"
      ]
    },
    {
      "cell_type": "markdown",
      "metadata": {
        "id": "UQMFQFuy9XCo"
      },
      "source": [
        "<p><a name=\"funci\"></a></p>\n",
        "\n",
        "## Funciones\n",
        "\n",
        "Una función es un bloque de código organizado y reutilizable que se utiliza para realizar una única acción relacionada. Las funciones proporcionan una mejor modularidad para su aplicación y un alto grado de reutilización de código.\n",
        "\n",
        ">`def Nombre(arg1,arg2,...):`\n",
        ">> `sentencias`"
      ]
    },
    {
      "cell_type": "markdown",
      "metadata": {
        "id": "3aNX6kn2Cjuq"
      },
      "source": [
        "Definamos la función exponencial $a^b$"
      ]
    },
    {
      "cell_type": "code",
      "metadata": {
        "id": "9GaLlcUceoC2",
        "colab": {
          "base_uri": "https://localhost:8080/"
        },
        "outputId": "c1c7040b-f08b-4398-ddd8-c7aaae27a095"
      },
      "source": [
        "def Exp(a,b):\n",
        "  exp = a**b\n",
        "  print(exp)\n",
        "  return\n",
        "  \n",
        "Exp(2,2)  "
      ],
      "execution_count": null,
      "outputs": [
        {
          "output_type": "stream",
          "name": "stdout",
          "text": [
            "4\n"
          ]
        }
      ]
    },
    {
      "cell_type": "markdown",
      "metadata": {
        "id": "69ukeYx6CweR"
      },
      "source": [
        "La sentencia *return* termina la función,  devolviendo opcionalmente uno o varios valores. Una declaración de retorno sin argumentos es lo mismo que devolver *none* (como en el caso anterior)"
      ]
    },
    {
      "cell_type": "code",
      "metadata": {
        "id": "cgWrwPmf-MCk",
        "colab": {
          "base_uri": "https://localhost:8080/"
        },
        "outputId": "68b93fc8-dda1-4a27-a46f-3ad98b8cf630"
      },
      "source": [
        "def Exp(a,b):\n",
        "  return a**b\n",
        "  \n",
        "def Exp2(a,b):\n",
        "  return a**b,a**b+1,a**b+2\n",
        "\n",
        "print(Exp(2,2),type(Exp(2,2)))\n",
        "\n",
        "print(Exp2(2,2),type(Exp2(2,2)))\n"
      ],
      "execution_count": null,
      "outputs": [
        {
          "output_type": "stream",
          "name": "stdout",
          "text": [
            "4 <class 'int'>\n",
            "(4, 5, 6) <class 'tuple'>\n"
          ]
        }
      ]
    },
    {
      "cell_type": "markdown",
      "metadata": {
        "id": "qz5th2OJbPQ6"
      },
      "source": [
        "## Problema:\n",
        "\n",
        "Escriba un código en Python que devuelva el máximo valor de un vector."
      ]
    },
    {
      "cell_type": "code",
      "source": [
        "def max_array1D(arr): \n",
        "  \n",
        "    # Initialize maximum element \n",
        "    max = arr[0] \n",
        "  \n",
        "    # Traverse array elements from second \n",
        "    # and compare every element with  \n",
        "    # current max \n",
        "    for i in range(1, arr.shape[0]): \n",
        "        if arr[i] > max: \n",
        "            max = arr[i] \n",
        "    return max"
      ],
      "metadata": {
        "id": "3lXSORejPi7z"
      },
      "execution_count": null,
      "outputs": []
    },
    {
      "cell_type": "markdown",
      "metadata": {
        "id": "et8SJMT_dIcd"
      },
      "source": [
        "Haga click en **esta** celda si tiene problemas con la solución.\n",
        "\n",
        "<!---:\n",
        "\n",
        "def max_array1D(arr): \n",
        "  \n",
        "    # Initialize maximum element \n",
        "    max = arr[0] \n",
        "  \n",
        "    # Traverse array elements from second \n",
        "    # and compare every element with  \n",
        "    # current max \n",
        "    for i in range(1, arr.shape[0]): \n",
        "        if arr[i] > max: \n",
        "            max = arr[i] \n",
        "    return max\n",
        "\n",
        "---->"
      ]
    },
    {
      "cell_type": "markdown",
      "metadata": {
        "id": "qA5jEatkIJUU"
      },
      "source": [
        "<p><a name=\"class\"></a></p>\n",
        "\n",
        "## Clases/Objetos\n",
        "\n",
        "Python es un lenguaje orientado a objetos. Casi todo en Python representa un objeto, el cual esta constituidos por sus atributos y métodos. \n",
        "\n",
        "Una clase es un \"ente creador\", o un prototipo para la creación de objetos.\n",
        "\n",
        "Las clases proporcionan un medio de agrupar datos y \"funcionalidad\". La creación de una nueva clase crea un nuevo tipo de objeto, lo que permite crear nuevas *instancias* de ese tipo. Cada instancia de la clase puede tener sus propios atributos. Las instancias de una clase también pueden tener *métodos* (definidos por su clase) para modificar su estado.\n",
        "\n",
        ">class Name():\n",
        ">>sentencias"
      ]
    },
    {
      "cell_type": "markdown",
      "metadata": {
        "id": "-loYl6I1JaGB"
      },
      "source": [
        "Los atributos son como propiedades que queremos añadir a la clase "
      ]
    },
    {
      "cell_type": "code",
      "metadata": {
        "id": "IJEykQm3JtnC"
      },
      "source": [
        "class Auto():\n",
        "  marca = ''\n",
        "  color = ''"
      ],
      "execution_count": null,
      "outputs": []
    },
    {
      "cell_type": "markdown",
      "metadata": {
        "id": "jxuP0t7xJ940"
      },
      "source": [
        "Creemos un objeto de la clase Auto con algunos atributos"
      ]
    },
    {
      "cell_type": "code",
      "metadata": {
        "id": "6pPE3CZ5KBqU",
        "colab": {
          "base_uri": "https://localhost:8080/"
        },
        "outputId": "3915b01b-ce27-4181-eeef-a3b9c5e9bb3f"
      },
      "source": [
        "Mi_auto = Auto()\n",
        "Mi_auto.marca = 'ferrari'\n",
        "Mi_auto.color = 'rojo'\n",
        "\n",
        "print(Mi_auto.marca)\n",
        "print(Mi_auto.color)"
      ],
      "execution_count": null,
      "outputs": [
        {
          "output_type": "stream",
          "name": "stdout",
          "text": [
            "ferrari\n",
            "rojo\n"
          ]
        }
      ]
    },
    {
      "cell_type": "markdown",
      "metadata": {
        "id": "YS5NKSJ4LXPb"
      },
      "source": [
        "Dentro de las clases podemos definir funciones, conocidas como *métodos* "
      ]
    },
    {
      "cell_type": "code",
      "metadata": {
        "id": "bXc_GQGHKgV8",
        "colab": {
          "base_uri": "https://localhost:8080/"
        },
        "outputId": "ab330dcb-9ed2-4553-c911-88b96b219f3a"
      },
      "source": [
        "class Persona():\n",
        "  nombre = ''\n",
        "  edad = ''\n",
        "  \n",
        "  def print_nombre(self):\n",
        "    print('nombre:',self.nombre)\n",
        "    \n",
        "  def print_edad(self):\n",
        "    print('edad:',self.edad)\n",
        "    \n",
        "Person1 = Persona()\n",
        "Person1.nombre = 'carolina'\n",
        "Person1.edad = 20\n",
        "\n",
        "Person1.print_nombre()\n",
        "Person1.print_edad()"
      ],
      "execution_count": null,
      "outputs": [
        {
          "output_type": "stream",
          "name": "stdout",
          "text": [
            "nombre: carolina\n",
            "edad: 20\n"
          ]
        }
      ]
    },
    {
      "cell_type": "markdown",
      "metadata": {
        "id": "MZJkf1TLNb2l"
      },
      "source": [
        "Los métodos necesitan tener un argumento convenientemente llamado self, que se refiere al objeto del método que está siendo llamado. Podemos pasar más de un argumento si así lo deseamos"
      ]
    },
    {
      "cell_type": "code",
      "metadata": {
        "id": "zj_xJIzwMwS4",
        "colab": {
          "base_uri": "https://localhost:8080/"
        },
        "outputId": "c1584236-f502-49a4-f629-3e8705aee171"
      },
      "source": [
        "class Persona:\n",
        "    nombre = ''\n",
        "    edad = ''\n",
        "     \n",
        "    def print_informacion(self, nombre, edad):\n",
        "        print('nombre:',self.nombre)\n",
        "        print('edad:',self.edad)\n",
        "             \n",
        "Person2 = Persona()\n",
        "Person2.nombre = 'carlos'\n",
        "Person2.edad = '30'\n",
        "Person2.print_informacion(Person2.nombre, Person2.edad)"
      ],
      "execution_count": null,
      "outputs": [
        {
          "output_type": "stream",
          "name": "stdout",
          "text": [
            "nombre: carlos\n",
            "edad: 30\n"
          ]
        }
      ]
    },
    {
      "cell_type": "markdown",
      "metadata": {
        "id": "KOtePNB7P_5U"
      },
      "source": [
        "La operación de creación de instancias crea un objeto vacío. A muchas clases les gusta crear objetos con instancias personalizadas a un estado inicial específico. Por lo tanto, una clase puede definir un método especial llamado __init __ (), como este:"
      ]
    },
    {
      "cell_type": "code",
      "metadata": {
        "id": "K7DpEV9hN-JK",
        "colab": {
          "base_uri": "https://localhost:8080/"
        },
        "outputId": "8711ac5c-b546-4c3f-ae65-6ffd1ed6ac67"
      },
      "source": [
        "class Person:\n",
        "  def __init__(self,n,e):\n",
        "    self.nombre = n\n",
        "    self.edad = e\n",
        "      \n",
        "Person3 = Person('mario','55')\n",
        "print('nombre:',Person3.nombre)\n",
        "print('edad:',Person3.edad)    "
      ],
      "execution_count": null,
      "outputs": [
        {
          "output_type": "stream",
          "name": "stdout",
          "text": [
            "nombre: mario\n",
            "edad: 55\n"
          ]
        }
      ]
    },
    {
      "cell_type": "markdown",
      "metadata": {
        "id": "hOvC0M10Xfl7"
      },
      "source": [
        "## Problema\n",
        "\n",
        "Creen una clase `Point` en coordenadas cartesianas, que se su constructor inicialice el objeto a un punto con unas coordenadas dadas. Además, la clase debe contener dos métodos:\n",
        "\n",
        "* `translate()`, que reciba como argumentos dos valores arbitrarios $(x,y)$.\n",
        "* `__str__(self)`: que imprima el punto en precisión de coma flotante."
      ]
    },
    {
      "cell_type": "markdown",
      "metadata": {
        "id": "Xa6Eso-zXfWp"
      },
      "source": [
        "Haga click en **esta** celda para ver la solución en caso de dificultades.\n",
        "<!----\n",
        "\n",
        "class Point:\n",
        "    \"\"\"\n",
        "    Simple class for representing a point in a Cartesian coordinate system.\n",
        "    \"\"\"\n",
        "    \n",
        "    def __init__(self, x, y):\n",
        "        \"\"\"\n",
        "        Create a new Point at x, y.\n",
        "        \"\"\"\n",
        "        self.x = x\n",
        "        self.y = y\n",
        "        \n",
        "    def translate(self, dx, dy):\n",
        "        \"\"\"\n",
        "        Translate the point by dx and dy in the x and y direction.\n",
        "        \"\"\"\n",
        "        self.x += dx\n",
        "        self.y += dy\n",
        "        \n",
        "    def __str__(self):\n",
        "        return(\"Point at [%f, %f]\" % (self.x, self.y))\n",
        "\n",
        "!---->\n"
      ]
    },
    {
      "cell_type": "markdown",
      "metadata": {
        "id": "BTDmhfQ31dI5"
      },
      "source": [
        "# Introducción al Deep Learning\n",
        "\n",
        "\n",
        "## ¿Qué es Deep Learning?\n",
        "\n",
        "![picture](https://i.imgur.com/BtyLC2y.png)\n",
        "\n",
        "\n",
        "Como se vió la inteligencia artificial nace a partir de preguntarnos si era posible automatizar máquinas para que realizaran tareas intelectuales normalmente realizadas por humanos. A partir de esto surgen ramificaciones de la IA entre las cuales encontramos el machine learning y a su vez el Deep learning, éste último un subcampo del machine learning.\n",
        "\n",
        "El **Deep Learning** es una forma de tratar las representaciones de los datos que pone énfasis en el aprendizaje a traves de capas sucesivas, con lo cual se busca  tener representaciones cada vez mas significativas que nos permitan estar cerca de las salidas esperadas, es decir, a traves de las capaz se busca extraer progresivamente caracteristicas de un valor mas refinado.\n",
        "\n",
        "![picture](https://i.imgur.com/sOtasrr.png)\n",
        "\n",
        "Donde por representaciones hacemos referencia a todas esas posibles transformaciones que realizamos a nuestros datos de forma tal que puedan facilitar nuestra tareas.\n",
        "\n",
        "El número de capaz que contribuyen en un modelo de datos es llamado **depth** (profundidad); en general tenemos cientos de capaz en nuestros modelos, pero hay ciertos casos en los que solo se cuenta con una o dos capaz a esto se le llama **Shallow learning**(Aprendizaje poco profundo). El deep learning también es llamado  **Layered representations Learning** y **Hierarchical representations learning**. En la siguiente imagen podemos ver un esquema de los modelos de deep learning a grandes razgos.\n",
        "\n",
        "![picture](https://i.imgur.com/318WfrZ.png)\n",
        "\n",
        "\n",
        "En el Deep Learning el aprendizaje se da a partir de modelos conocidos como redes neuronales artificiales, los cuales son estructuras a capaz conectadas unas a otras, donde el nombre de red neuronal viene de la neurobiología y su comparación con el cerebro, si bien estos modelos se inspiran en este, las redes neurales *no son modelos del cerebro*, pues no se tiene la certeza de como éste funciona, es por esto que muchas personas están dejando a un lado la terminología que hace referencia a aspectos biológicos.\n",
        "\n",
        "![picture](https://i.imgur.com/uoUu9sE.png)\n",
        "\n",
        "\n",
        "En la anterior se puede ver un esquema general de una red profunda, la cual podemos pensar como una multiestación de operaciones de destilación de información, donde esta va a traves de diferentes filtros y se retorna altamente purificada, es decir, vamos obteniendo a traves de las capaz diferentes caracterisiticas que harán mas refinadas nuestras representaciones y por ende nos acercaran más a las salidas buscadas.\n",
        "\n",
        "## ¿Cómo trabaja Deep Learning?\n",
        "\n",
        "Igual que en machine learning, se tiene un mapeo input-target,esta vez a traves de una secuencia de transformaciones de los datos (capaz), como se puede ver en la siguiente imagen.\n",
        "\n",
        "![picture](https://i.imgur.com/yLfzLKI.png)\n",
        "\n",
        "Donde podemos ver que se involucran unos elementos llamados **pesos**, los cuales en esencia son una manada de números que guardan la especificación de qué le hace una capa a sus datos de entrada, es decir, la transformación implementada por una capa es parametrizada por sus pesos. En este sentido se busca encontrar a partir de lo que llamamos aprendizaje el conjunto de valores para los pesos con los cuales  la red mapea correctamente los valores de entrada con sus respectivas etiquetas.\n",
        "\n",
        "Por lo tanto a mi red neuronal le ingreso los datos de entrada, los cuales pasan a traves de las diferentes capaz realizando esa \"destilación\" de información y sale mi predicción (salida), donde en nuestra fase de entrenamiento debemos controlar este valor de salida, es decier necesitamos poder medir que tan lejos nuestra salida está del valor esperado, es aquí donde toma juego la llamada **loss function**(función de perdida) o **Objective function**(funció objetivo); esta toma la predicción y la verdadera etiqueta y calcula cierto puntaje para la distancia entres estas, logrando así capturar que tan bien la red neuronal está haciendo su trabajo.\n",
        "\n",
        "![picture](https://i.imgur.com/tIWqNoP.png)\n",
        "\n",
        "Teniendo esto el objetivo está en ajustar los pesos de forma tal que se disminuya la función de perdida, esto se logra usando un optimizador he implementado el **backpropagation**.\n",
        "\n",
        "## ¿ Qué hemos alcanzado con Deep Learning?\n",
        "\n",
        "Con la aplicacion de estos modelos se han alcanzado avances a niveles que muchas veces pueden estar cerca al de un humano; algunos como los siguientes:\n",
        "* Clasificación de imagenes\n",
        "* Reconocimiento de voz\n",
        "* Transcripión de textos\n",
        "* Mejora en las traducciones automáticas\n",
        "* Conversión de voz a texto\n",
        "* Carros autonomos\n",
        "* Entre otros\n",
        "\n",
        "A | B\n",
        "- | - \n",
        "![alt](https://i.imgur.com/5p8aMXy.png) | ![alt](https://miro.medium.com/max/1966/1*nJNxFmJaHxyJTtVFkhGTlg.png)\n",
        "\n",
        "## ¿Qué hace diferente a Deep Learning?\n",
        "\n",
        "* Ofrece mejores soluciones en algunos problemas\n",
        "* Automatiza el feature engineering\n",
        "* Todas las capaz aprenden conjuntamente,esto lo hace paralelizable.\n",
        "\n",
        "Si bien estas son unas de las características que destacan, existen muchas más que nos permiten que modelos complejos puedan ser abordados con facilidad y mayor velocidad en comparación con hace unos años.\n",
        "\n",
        "\n",
        "## ¿ Por qué DL ahora?\n",
        "\n",
        "Si bien las teorías y modelos de DL y en general de la IA se han planteado hace ya un buen tiempo, el rápido crecimiento en los últimos años se ha dado debido a los avances en **hardware** y **Datos**, pues básicamente la IA es un campo experimental mas que teorico, eso no implica que la teoría haya quedado a un lado, pues el avance en capacidad de computo y datos permiten a su vez el avance en nuevos algoritmos. \n",
        "\n",
        "# Redes neuronales artificiales\n",
        "\n",
        "Estas fueron inspiradas en las neuronas biológicas y sus conexiones en el cerebro de los animales, donde estas son celulas nerviosas que proveen unidades funcionales fundamentales para el sistema nervioso de los animales. Las neuronas biológicas se comunican a través de impulsos electro-químicos, llamados señales.Estas están conectadas unas a otras organizadas en redes de millones de nueronas. En la siguiente imagen se pueden ver algunos de los componentes de las neuronas biológicas.\n",
        "\n",
        "\n",
        "<p><img alt=\"Colaboratory logo\" height=\"300px\" src=\"https://i.imgur.com/uEgQGB3.png\" align=\"center\" hspace=\"10px\" vspace=\"0px\"></p>\n",
        "\n",
        "Las redes neuronales artificiales (Artificial neural networks), fueron introducidas inicialmente por  Warren McCulloh y Walter Pitts  en los años 40, donde mostraban un  modelo de como las neuronas biológicas podían  realizar complejos cálculos a partir de la lógica proposicional. Estos propusieron un modelo de neurona artificial donde se tenían entradas y salidas binarias.\n",
        "\n",
        "![picture](https://i.imgur.com/qULaQPN.png)\n",
        "\n",
        "Ellos mostraron que a partir de la unión de varias de estas neuronas artificiales, es decir a traves de una red nueronal artificial, se podía calcular cualquier proposición lógica que se quisiera.\n",
        "\n",
        "## El perceptrón\n",
        "\n",
        "A finales de los años 50's  fue diseñado por Frank Rosenblant el perceptrón, inspirandose en los trabajos de McCulloh y Pitts, es considerada la arquitectura mas simple en Deep Learning. Es un  modelo lineal de clasificación binaria  con una relaicón de entrada y salida como se ve en la siguiente imagen:\n",
        "\n",
        "<p><img alt=\"Colaboratory logo\" height=\"300px\" src=\"https://i.imgur.com/3S8Hhfy.png\" align=\"center\" hspace=\"10px\" vspace=\"0px\"></p>\n",
        "\n",
        "Donde a cada dato de entrada se le asocia un peso y luego de realizar la sumatoria asociada se pasa por la función de activación, que para el caso del perceptrón normalmente es la función escalón de **Heaviside**, aunque algunas veces también se usa la función sign, ambas definidas de la siguiente manera:\n",
        "\n",
        "\\begin{equation} \n",
        "heaviside(z) = \n",
        "     \\begin{cases}\n",
        "      \\text{0} &\\quad\\text{if}&  z < 0\\\\\n",
        "      \\text{+1} &\\quad\\text{if}& z\\geq 0\\\\\n",
        "     \\end{cases}\\\\     \n",
        "\\end{equation}\n",
        "\n",
        "\\begin{equation} \n",
        "sing(z) = \n",
        "     \\begin{cases}\n",
        "      \\text{-1} &\\quad\\text{if}&  z < 0\\\\\n",
        "      \\text{0} &\\quad\\text{if}&  z = 0\\\\\n",
        "      \\text{+1} &\\quad\\text{if}&  z > 0\\\\\n",
        "     \\end{cases}\n",
        "\\end{equation}\n",
        "\n",
        "\n",
        "\n",
        "\n"
      ]
    },
    {
      "cell_type": "markdown",
      "metadata": {
        "id": "4v1rLwrItXhj"
      },
      "source": [
        "La salida de la función paso es la salida del perceptrón y me da la clasificación de los valores de entrada. El algoritmo de aprendizaje del perceptrón no puede clasificar entradas que no son linermente separables.\n",
        "\n",
        "## Multilayer feed forward networks\n",
        "\n",
        "La multilayer feed forward network es una red neuronal con una capa de entrada, una o mas capaz ocultas y una capa de salida. Cada capa tiene una o mas nuronas artificiales, éstas son similares al perceptrón a diferencia de que su función de activación dependerá de los propositos específicos de la capa en la red.\n",
        "\n",
        "<p><img alt=\"Colaboratory logo\" height=\"300px\" src=\"https://i.imgur.com/fcBNqyp.png\" align=\"center\" hspace=\"10px\" vspace=\"0px\"></p>\n",
        "\n",
        "Como vemos se tiene una estructura como la del perceptrón, a diferencia de la antes mencionada flexibilidad en cuanto a la función de activación, algunas de las más utilizadas se pueden ver en el siguiente gráfico\n",
        "\n",
        "![picture](https://i.imgur.com/j8vunMo.png)\n",
        "\n",
        "Como se ha mencionado, las redes neuronales artificiales son un conjunto de neuronas artificiales agrupadas en lo que denominamos capaz, estas usan en cada capa el mismo tipo de función de activación, donde para una capa diferente a la de entrada, sus datos de entrada serán las salidas de la capa previa (activación). Nuestra salida o predicción, será un mapeo producto de los datos de entrada, donde podrá ser el resultado de una clasificación o regresión de acuerdo a nuestro objetivo.En general la capa de salida usa como función de activación  la función sigmoid o softmax.\n",
        "\n",
        "\n",
        "<p><img alt=\"Colaboratory logo\" height=\"300px\" src=\"https://i.imgur.com/9QkhmiE.png\" align=\"center\" hspace=\"10px\" vspace=\"0px\"></p>\n",
        "\n",
        "En la anterior se puede ver un bosquejo de lo que es una red neuronal artificial."
      ]
    },
    {
      "cell_type": "markdown",
      "metadata": {
        "id": "vuwf_IuGlJuC"
      },
      "source": [
        "# Introduccion a keras\n",
        "Keras es una interfaz de programación de aplicaciones (API) que permite de manera fácil construir, entrenar, evaluar y ejecutar casi cualquier tipo de red neuronal. Keras fue creado por François Chollet como parte de un proyecto de investigación y fue lanzando al mercado de manera gratuita en marzo del 2015.\n",
        "Keras ganó rápidamente popularidad debido a su facilidad de uso , flexibilidad y diseño .\n",
        "\n",
        "Algunas características claves de keras son:\n",
        "\n",
        "* Permite que el mismo código se ejecute sin problemas en la CPU o GPU. \n",
        "* Tiene una API fácil de usar que facilita la creación rápida de prototipos de modelos de aprendizaje profundo.\n",
        "* Es compatible con arquitecturas de red arbitrarias. Esto significa que Keras es apropiado para construir esencialmente cualquier modelo de aprendizaje profundo, desde una red generativa de confrontación hasta una máquina neural de Turing.\n",
        "\n",
        "\n",
        "Keras tiene más de 200,000 usuarios, que van desde investigadores académicos e ingenieros en empresas nuevas y grandes empresas hasta estudiantes graduados y aficionados. Keras se usa en Google, Netflix, Uber, CERN, Yelp, Square y cientos de nuevas empresas que trabajan en una amplia gama de problemas. Keras también es popular en Kaggle, el sitio web donde se realizan competencia de aprendizaje automático, donde casi todas las competencias recientes de aprendizaje profundo se han ganado utilizando los modelos Keras.\n",
        "\n",
        "## Keras, TensorFlow, Theano, CNTK, y Pytorch\n",
        "\n",
        "Para realizar los cálculos requeridos por las redes neuronales, Keras usa librerías especializada y bien optimizada. TensorFlow, CNTK y Theano son algunas de las librerias principales para el aprendizaje profundo en la actualidad. Theano (http://deeplearning.net/software/theano) es desarrollado por el laboratorio MILA en la Universidad de Montreal, TensorFlow (www.tensorflow.org) es desarrollado por Google, CNTK (https://github.com/Microsoft / CNTK) es desarrollado por Microsoft y Pytorch es desarrollado por Facebook (https://pytorch.org/).\n",
        "\n",
        "Se recomienda utilizar TensorFlow como la biblioteca predeterminada para la mayoría de las tareas de aprendizaje profundo, ya que es la más ampliamente adoptada, escalable y lista para producción.\n",
        "\n",
        "## Configurar una estación de trabajo de aprendizaje profundo\n",
        "\n",
        "Antes de comenzar a desarrollar aplicaciones de aprendizaje profundo, debe configurar su estación de trabajo. Es muy recomendable, aunque no estrictamente necesario, que ejecute código de aprendizaje profundo en una GPU. Algunas aplicaciones, en particular, el procesamiento de imágenes con redes convolucionales será extremadamente lento en la CPU, incluso en una CPU multinúcleo rápida, e incluso para las aplicaciones que se pueden ejecutar de manera realista en la CPU, generalmente se verá un aumento de la velocidad en un factor de 5 o 10 al usar una GPU moderna.\n",
        "\n",
        "\n",
        "Al usar google colaboratory es fácil establecer la GPU como lugar de trabajo,  solo debes ir a la pestaña editar , luego seleccionar ajustes de notebook y finalmente seleccionar GPU \n",
        "\n",
        "\n",
        "<p><img alt=\"Colaboratory logo\" height=\"450px\" src=\"https://i.imgur.com/fKMwMLg.png\" align=\"center\" hspace=\"10px\" vspace=\"0px\"></p> \n",
        "\n",
        "Una vez establecido el lugar de trabajo, podemos empezar a usar Keras, para esto el primer pasa es importar Keras seleccionando TensorFLow como librería para realizar los cálculos matemáticos. \n",
        "\n",
        "\n"
      ]
    },
    {
      "cell_type": "code",
      "metadata": {
        "id": "eoGb_Yw13eEE"
      },
      "source": [
        "from tensorflow import keras"
      ],
      "execution_count": null,
      "outputs": []
    },
    {
      "cell_type": "markdown",
      "metadata": {
        "id": "eoKiX_lL0pf5"
      },
      "source": [
        "## Ejemplo: clasificador de imágenes usando Keras\n",
        "\n",
        "Para ilustrar la manera en que Keras es usado en el aprendizaje profundo, realizaremos un ejemplo de clasificación usando conjunto de datos *Fashion MNIST* el cual consta de 70,000 imágenes (las imágenes representan artículos de moda) en escala de grises de 28 × 28 píxeles cada una y con 10 clases. \n",
        "\n",
        "### Uso de Keras para cargar el conjunto de datos\n",
        "\n",
        "Comencemos cargando el conjunto de datos Fashion MNIST. Keras tiene una serie de funciones para cargar conjuntos de datos populares en keras.datasets. El conjunto de datos ya está dividido entre un conjunto de entrenamiento y un conjunto de prueba, pero puede ser útil dividir aún más el conjunto de entrenamiento para tener un conjunto de validación:\n",
        "\n",
        "\n",
        "\n",
        "\n"
      ]
    },
    {
      "cell_type": "code",
      "metadata": {
        "id": "Gzwdt_sB0J1n"
      },
      "source": [
        "from keras.datasets import fashion_mnist"
      ],
      "execution_count": null,
      "outputs": []
    },
    {
      "cell_type": "markdown",
      "source": [
        "https://www.kaggle.com/datasets/zalando-research/fashionmnist"
      ],
      "metadata": {
        "id": "UT6_ZHY-MXyQ"
      }
    },
    {
      "cell_type": "code",
      "source": [],
      "metadata": {
        "id": "3y1vVOH9MXAX"
      },
      "execution_count": null,
      "outputs": []
    },
    {
      "cell_type": "code",
      "metadata": {
        "id": "5Rc0_ejg2wrI",
        "colab": {
          "base_uri": "https://localhost:8080/"
        },
        "outputId": "13a5cdc2-a610-4dcc-ede6-dfca96c1c93a"
      },
      "source": [
        "fashion_mnist = keras.datasets.fashion_mnist\n",
        "(X_train_full, y_train_full), (X_test, y_test) = fashion_mnist.load_data()"
      ],
      "execution_count": null,
      "outputs": [
        {
          "output_type": "stream",
          "name": "stdout",
          "text": [
            "Downloading data from https://storage.googleapis.com/tensorflow/tf-keras-datasets/train-labels-idx1-ubyte.gz\n",
            "32768/29515 [=================================] - 0s 0us/step\n",
            "40960/29515 [=========================================] - 0s 0us/step\n",
            "Downloading data from https://storage.googleapis.com/tensorflow/tf-keras-datasets/train-images-idx3-ubyte.gz\n",
            "26427392/26421880 [==============================] - 0s 0us/step\n",
            "26435584/26421880 [==============================] - 0s 0us/step\n",
            "Downloading data from https://storage.googleapis.com/tensorflow/tf-keras-datasets/t10k-labels-idx1-ubyte.gz\n",
            "16384/5148 [===============================================================================================] - 0s 0us/step\n",
            "Downloading data from https://storage.googleapis.com/tensorflow/tf-keras-datasets/t10k-images-idx3-ubyte.gz\n",
            "4423680/4422102 [==============================] - 0s 0us/step\n",
            "4431872/4422102 [==============================] - 0s 0us/step\n"
          ]
        }
      ]
    },
    {
      "cell_type": "markdown",
      "metadata": {
        "id": "E2yxNVfK5xNc"
      },
      "source": [
        "El conjunto de entrenamiento contiene 60,000 imágenes en escala de grises, cada una de 28x28 píxeles:"
      ]
    },
    {
      "cell_type": "code",
      "metadata": {
        "id": "mJWT0_0p22Kb",
        "colab": {
          "base_uri": "https://localhost:8080/"
        },
        "outputId": "e13bc109-7fc2-410b-dbb4-9135c461e729"
      },
      "source": [
        "X_train_full.shape"
      ],
      "execution_count": null,
      "outputs": [
        {
          "output_type": "execute_result",
          "data": {
            "text/plain": [
              "(60000, 28, 28)"
            ]
          },
          "metadata": {},
          "execution_count": 32
        }
      ]
    },
    {
      "cell_type": "markdown",
      "metadata": {
        "id": "Z_pNaHwm75gv"
      },
      "source": [
        "La intensidad de cada píxel se representa como un byte (enteros entre 0 a 255):"
      ]
    },
    {
      "cell_type": "code",
      "metadata": {
        "id": "pRnupX-r43j0",
        "colab": {
          "base_uri": "https://localhost:8080/"
        },
        "outputId": "41c96cac-396f-4eb6-c995-f1bf43c7713d"
      },
      "source": [
        "X_train_full.dtype"
      ],
      "execution_count": null,
      "outputs": [
        {
          "output_type": "execute_result",
          "data": {
            "text/plain": [
              "dtype('uint8')"
            ]
          },
          "metadata": {},
          "execution_count": 33
        }
      ]
    },
    {
      "cell_type": "markdown",
      "metadata": {
        "id": "SHVIm3Ba8k8j"
      },
      "source": [
        "Ahora dividamos el conjunto de datos de entrenamiento en un conjunto de validación y un conjunto de entrenamiento (más pequeño). También escalamos las intensidades de píxeles en el rango 0-1 y las convertimos en flotantes al dividiéndolas por 255."
      ]
    },
    {
      "cell_type": "code",
      "metadata": {
        "id": "I2YO8M1D8FeH"
      },
      "source": [
        "X_valid, X_train = X_train_full[:5000] / 255., X_train_full[5000:] / 255.\n",
        "y_valid, y_train = y_train_full[:5000], y_train_full[5000:]\n",
        "X_test = X_test / 255."
      ],
      "execution_count": null,
      "outputs": []
    },
    {
      "cell_type": "code",
      "source": [
        "y_train[0]"
      ],
      "metadata": {
        "id": "CtUtve9iL-l8",
        "outputId": "2ca18893-5214-42db-a481-fb8805d94994",
        "colab": {
          "base_uri": "https://localhost:8080/"
        }
      },
      "execution_count": null,
      "outputs": [
        {
          "output_type": "execute_result",
          "data": {
            "text/plain": [
              "4"
            ]
          },
          "metadata": {},
          "execution_count": 35
        }
      ]
    },
    {
      "cell_type": "markdown",
      "metadata": {
        "id": "yZkbwEA19U5n"
      },
      "source": [
        "visualicemos la primera imagen del conjunto de datos usando matplotlib"
      ]
    },
    {
      "cell_type": "code",
      "metadata": {
        "id": "A3gJYN-u9BeP"
      },
      "source": [
        "import matplotlib.pyplot as plt \n",
        "#import seaborn as sns; sns.set()"
      ],
      "execution_count": null,
      "outputs": []
    },
    {
      "cell_type": "code",
      "metadata": {
        "id": "LO3P6C6N9Ys6",
        "colab": {
          "base_uri": "https://localhost:8080/",
          "height": 248
        },
        "outputId": "2b1cdbe9-b9f5-4fcc-e591-91743e5b3622"
      },
      "source": [
        "plt.imshow(X_train[0], cmap=\"binary\")\n",
        "plt.axis('off');"
      ],
      "execution_count": null,
      "outputs": [
        {
          "output_type": "display_data",
          "data": {
            "text/plain": [
              "<Figure size 432x288 with 1 Axes>"
            ],
            "image/png": "[encoded data removed]"
          },
          "metadata": {
            "needs_background": "light"
          }
        }
      ]
    },
    {
      "cell_type": "markdown",
      "metadata": {
        "id": "_M2U8x_y9zn-"
      },
      "source": [
        "Las etiquetas van de 0 a 9, por lo que hay 10 tipos diferentes de ropa."
      ]
    },
    {
      "cell_type": "code",
      "metadata": {
        "id": "JDVBx8FO-LgA"
      },
      "source": [
        "import numpy as np"
      ],
      "execution_count": null,
      "outputs": []
    },
    {
      "cell_type": "code",
      "metadata": {
        "id": "wH0JSon39Z8F",
        "colab": {
          "base_uri": "https://localhost:8080/"
        },
        "outputId": "61fd4382-62f7-4d42-9593-c4dc32658cd6"
      },
      "source": [
        "np.unique(y_train)\n"
      ],
      "execution_count": null,
      "outputs": [
        {
          "output_type": "execute_result",
          "data": {
            "text/plain": [
              "array([0, 1, 2, 3, 4, 5, 6, 7, 8, 9], dtype=uint8)"
            ]
          },
          "metadata": {},
          "execution_count": 39
        }
      ]
    },
    {
      "cell_type": "markdown",
      "metadata": {
        "id": "OVuZTuwN-Ujp"
      },
      "source": [
        "los nombres para cada una de las clases son: "
      ]
    },
    {
      "cell_type": "code",
      "metadata": {
        "id": "rgX0QvkV98Il"
      },
      "source": [
        "class_names = [\"T-shirt/top\", \"Trouser\", \"Pullover\", \"Dress\", \"Coat\",\n",
        "               \"Sandal\", \"Shirt\", \"Sneaker\", \"Bag\", \"Ankle boot\"]"
      ],
      "execution_count": null,
      "outputs": []
    },
    {
      "cell_type": "markdown",
      "metadata": {
        "id": "zw-gJmK7-qmc"
      },
      "source": [
        "Entonces, la primera imagen en el conjunto de entrenamiento es un abrigo(Coat)"
      ]
    },
    {
      "cell_type": "code",
      "metadata": {
        "id": "BThb_pJK-ZpA",
        "colab": {
          "base_uri": "https://localhost:8080/",
          "height": 35
        },
        "outputId": "ea80ff41-1a32-4e24-a320-a15f899f9214"
      },
      "source": [
        "class_names[y_train[0]]"
      ],
      "execution_count": null,
      "outputs": [
        {
          "output_type": "execute_result",
          "data": {
            "text/plain": [
              "'Coat'"
            ],
            "application/vnd.google.colaboratory.intrinsic+json": {
              "type": "string"
            }
          },
          "metadata": {},
          "execution_count": 41
        }
      ]
    },
    {
      "cell_type": "markdown",
      "metadata": {
        "id": "NGTh1v2u_AuD"
      },
      "source": [
        "El conjunto de validación contiene 5,000 imágenes, y el conjunto de prueba contiene 10,000 imágenes:"
      ]
    },
    {
      "cell_type": "code",
      "metadata": {
        "id": "SofDeaM9Aklm",
        "colab": {
          "base_uri": "https://localhost:8080/"
        },
        "outputId": "7cd745aa-e539-4419-8223-a802695ac9ce"
      },
      "source": [
        "X_valid.shape"
      ],
      "execution_count": null,
      "outputs": [
        {
          "output_type": "execute_result",
          "data": {
            "text/plain": [
              "(5000, 28, 28)"
            ]
          },
          "metadata": {},
          "execution_count": 42
        }
      ]
    },
    {
      "cell_type": "code",
      "metadata": {
        "id": "fX4z_5o1BPC4",
        "colab": {
          "base_uri": "https://localhost:8080/"
        },
        "outputId": "69f6b90c-798a-4de3-cfd5-397916bd659b"
      },
      "source": [
        "X_test.shape"
      ],
      "execution_count": null,
      "outputs": [
        {
          "output_type": "execute_result",
          "data": {
            "text/plain": [
              "(10000, 28, 28)"
            ]
          },
          "metadata": {},
          "execution_count": 43
        }
      ]
    },
    {
      "cell_type": "markdown",
      "metadata": {
        "id": "Wb53If_5_FXr"
      },
      "source": [
        "visualicemos ahora algunas de las imágenes de los datos de entrenamiento con su respectiva etiqueta"
      ]
    },
    {
      "cell_type": "code",
      "metadata": {
        "id": "ueEfL0_l_ERq",
        "colab": {
          "base_uri": "https://localhost:8080/",
          "height": 310
        },
        "outputId": "5b3063ec-c87e-4fed-8664-9ceafa7ae40f"
      },
      "source": [
        "fig , ax =  plt.subplots(3,10, figsize=(15,5))\n",
        "for i , ax in enumerate(ax.flat):\n",
        "  ax.imshow(X_train[i], cmap='binary')\n",
        "  ax.set_axis_off()\n",
        "  ax.set_title(class_names[y_train[i]])"
      ],
      "execution_count": null,
      "outputs": [
        {
          "output_type": "display_data",
          "data": {
            "text/plain": [
              "<Figure size 1080x360 with 30 Axes>"
            ],
            "image/png": "[encoded data removed]"
          },
          "metadata": {
            "needs_background": "light"
          }
        }
      ]
    },
    {
      "cell_type": "markdown",
      "metadata": {
        "id": "ZQpJetqBAE_G"
      },
      "source": [
        "## Uso de Keras para crean un modelo de aprendizaje profundo \n"
      ]
    },
    {
      "cell_type": "code",
      "metadata": {
        "id": "Mf3T-mTrDWwN"
      },
      "source": [
        "keras.backend.clear_session()"
      ],
      "execution_count": null,
      "outputs": []
    },
    {
      "cell_type": "code",
      "metadata": {
        "id": "k8bwYESv_q4T"
      },
      "source": [
        "model = keras.models.Sequential();\n",
        "model.add(keras.layers.Flatten(input_shape=[28, 28]));\n",
        "model.add(keras.layers.Dense(300, activation=\"relu\"));\n",
        "model.add(keras.layers.Dense(100, activation=\"relu\"));\n",
        "model.add(keras.layers.Dense(10, activation=\"softmax\"));"
      ],
      "execution_count": null,
      "outputs": []
    },
    {
      "cell_type": "markdown",
      "metadata": {
        "id": "61zlC3ywA-DB"
      },
      "source": [
        "Veamos este código línea por línea:\n",
        "* La primera línea crea un modelo secuencial. Este es el tipo más simple de modelo para redes neuronales que están compuestas de una sola pila de capas, conectadas secuencialmente. Esto se llama la API secuencial.\n",
        "\n",
        "* Luego , construimos la primera capa y la agregamos al modelo. Es una capa Flatten cuyo papel es simplemente convertir cada imagen de entrada en un arregle 1D:\n",
        "\n",
        "* Luego, agregamos una capa oculta densa con 300 neuronas la cual utilizará la función de activación ReLU.\n",
        "\n",
        "* Luego, agregamos una segunda capa oculta densa con 100 neuronas, que también utiliza la función de activación ReLU.\n",
        "\n",
        "* Finalmente, agregamos una capa de salida densa con 10 neuronas (una por clase), usando la función de activación softmax (porque las clases son exclusivas).\n",
        "\n",
        "El método `summary()` muestra un resumen de todas las capas del modelo.\n"
      ]
    },
    {
      "cell_type": "code",
      "metadata": {
        "id": "NXRM66UtA1_6",
        "colab": {
          "base_uri": "https://localhost:8080/"
        },
        "outputId": "99495b22-1ea9-4dc6-c3b8-62a1b0d00496"
      },
      "source": [
        "model.summary()"
      ],
      "execution_count": null,
      "outputs": [
        {
          "output_type": "stream",
          "name": "stdout",
          "text": [
            "Model: \"sequential\"\n",
            "_________________________________________________________________\n",
            " Layer (type)                Output Shape              Param #   \n",
            "=================================================================\n",
            " flatten (Flatten)           (None, 784)               0         \n",
            "                                                                 \n",
            " dense (Dense)               (None, 300)               235500    \n",
            "                                                                 \n",
            " dense_1 (Dense)             (None, 100)               30100     \n",
            "                                                                 \n",
            " dense_2 (Dense)             (None, 10)                1010      \n",
            "                                                                 \n",
            "=================================================================\n",
            "Total params: 266,610\n",
            "Trainable params: 266,610\n",
            "Non-trainable params: 0\n",
            "_________________________________________________________________\n"
          ]
        }
      ]
    },
    {
      "cell_type": "markdown",
      "metadata": {
        "id": "rF8jSbXFDrM-"
      },
      "source": [
        "## Compilando el modelo\n",
        "\n",
        "Después de crear un modelo, se debe llamar el método `compile()` para especificar la función de pérdida y el optimizador a utilizar. Opcionalmente, también puede especificar una lista de métricas  para calcular durante el entrenamiento y la evaluación:"
      ]
    },
    {
      "cell_type": "code",
      "metadata": {
        "id": "6xmf4dP6DN1z"
      },
      "source": [
        "model.compile(loss='sparse_categorical_crossentropy',\n",
        "              optimizer='sgd', \n",
        "              metrics=[\"accuracy\"])"
      ],
      "execution_count": null,
      "outputs": []
    },
    {
      "cell_type": "markdown",
      "metadata": {
        "id": "1mjB4LdpFDXF"
      },
      "source": [
        "## Entrenando y evaluando el modelo"
      ]
    },
    {
      "cell_type": "markdown",
      "metadata": {
        "id": "5hUzUbzhGk1r"
      },
      "source": [
        "Ahora el modelo está listo para ser entrenado. Para esto simplemente necesitamos llamar a su método `fit()`. Le pasamos las características de entrada (X_train) y las clases de destino (y_train), así como la cantidad de épocas para entrenar (o de lo contrario, sería predeterminado a solo 1). También pasamos un conjunto de validación (esto es opcional): Keras medirá la pérdida y las métricas adicionales en este conjunto al final de cada época, lo cual es muy útil para ver qué tan bien se desempeña realmente el modelo."
      ]
    },
    {
      "cell_type": "code",
      "metadata": {
        "id": "g54_sBZjEskv",
        "colab": {
          "base_uri": "https://localhost:8080/"
        },
        "outputId": "ca8eff2a-73b7-4fd5-c0b9-a0464d028420"
      },
      "source": [
        "history =  model.fit(X_train, y_train, epochs=20, validation_data=(X_valid, y_valid))"
      ],
      "execution_count": null,
      "outputs": [
        {
          "output_type": "stream",
          "name": "stdout",
          "text": [
            "Epoch 1/20\n",
            "1719/1719 [==============================] - 7s 3ms/step - loss: 0.7111 - accuracy: 0.7690 - val_loss: 0.5181 - val_accuracy: 0.8184\n",
            "Epoch 2/20\n",
            "1719/1719 [==============================] - 4s 3ms/step - loss: 0.4904 - accuracy: 0.8304 - val_loss: 0.4504 - val_accuracy: 0.8486\n",
            "Epoch 3/20\n",
            "1719/1719 [==============================] - 4s 3ms/step - loss: 0.4454 - accuracy: 0.8428 - val_loss: 0.4102 - val_accuracy: 0.8610\n",
            "Epoch 4/20\n",
            "1719/1719 [==============================] - 4s 3ms/step - loss: 0.4167 - accuracy: 0.8542 - val_loss: 0.4069 - val_accuracy: 0.8558\n",
            "Epoch 5/20\n",
            "1719/1719 [==============================] - 4s 3ms/step - loss: 0.3957 - accuracy: 0.8604 - val_loss: 0.3948 - val_accuracy: 0.8634\n",
            "Epoch 6/20\n",
            "1719/1719 [==============================] - 4s 3ms/step - loss: 0.3803 - accuracy: 0.8663 - val_loss: 0.3748 - val_accuracy: 0.8710\n",
            "Epoch 7/20\n",
            "1719/1719 [==============================] - 4s 3ms/step - loss: 0.3658 - accuracy: 0.8707 - val_loss: 0.3566 - val_accuracy: 0.8754\n",
            "Epoch 8/20\n",
            "1719/1719 [==============================] - 4s 3ms/step - loss: 0.3539 - accuracy: 0.8756 - val_loss: 0.3720 - val_accuracy: 0.8678\n",
            "Epoch 9/20\n",
            "1719/1719 [==============================] - 4s 3ms/step - loss: 0.3441 - accuracy: 0.8775 - val_loss: 0.3610 - val_accuracy: 0.8732\n",
            "Epoch 10/20\n",
            "1719/1719 [==============================] - 4s 3ms/step - loss: 0.3349 - accuracy: 0.8801 - val_loss: 0.3534 - val_accuracy: 0.8760\n",
            "Epoch 11/20\n",
            "1719/1719 [==============================] - 4s 3ms/step - loss: 0.3255 - accuracy: 0.8849 - val_loss: 0.3535 - val_accuracy: 0.8750\n",
            "Epoch 12/20\n",
            "1719/1719 [==============================] - 4s 3ms/step - loss: 0.3185 - accuracy: 0.8859 - val_loss: 0.3302 - val_accuracy: 0.8806\n",
            "Epoch 13/20\n",
            "1719/1719 [==============================] - 4s 3ms/step - loss: 0.3115 - accuracy: 0.8891 - val_loss: 0.3279 - val_accuracy: 0.8824\n",
            "Epoch 14/20\n",
            "1719/1719 [==============================] - 5s 3ms/step - loss: 0.3046 - accuracy: 0.8912 - val_loss: 0.3301 - val_accuracy: 0.8836\n",
            "Epoch 15/20\n",
            "1719/1719 [==============================] - 5s 3ms/step - loss: 0.2968 - accuracy: 0.8930 - val_loss: 0.3412 - val_accuracy: 0.8784\n",
            "Epoch 16/20\n",
            "1719/1719 [==============================] - 4s 3ms/step - loss: 0.2919 - accuracy: 0.8957 - val_loss: 0.3287 - val_accuracy: 0.8818\n",
            "Epoch 17/20\n",
            "1719/1719 [==============================] - 4s 3ms/step - loss: 0.2855 - accuracy: 0.8980 - val_loss: 0.3172 - val_accuracy: 0.8872\n",
            "Epoch 18/20\n",
            "1719/1719 [==============================] - 4s 3ms/step - loss: 0.2809 - accuracy: 0.8987 - val_loss: 0.3113 - val_accuracy: 0.8870\n",
            "Epoch 19/20\n",
            "1719/1719 [==============================] - 4s 3ms/step - loss: 0.2756 - accuracy: 0.9000 - val_loss: 0.3198 - val_accuracy: 0.8836\n",
            "Epoch 20/20\n",
            "1719/1719 [==============================] - 4s 3ms/step - loss: 0.2700 - accuracy: 0.9027 - val_loss: 0.3143 - val_accuracy: 0.8854\n"
          ]
        }
      ]
    },
    {
      "cell_type": "markdown",
      "metadata": {
        "id": "-4_yg5MrIWLR"
      },
      "source": [
        "¡Y eso es todo! La red neuronal está entrenada. En cada época durante el entrenamiento, Keras muestra el número de instancias procesadas hasta el momento (junto con una barra de progreso), el tiempo medio de entrenamiento, la pérdida (loss) y la precisión (accuracy), ambas calculadas en el conjunto de entrenamiento y el conjunto de validación.\n",
        "\n",
        "El método `fit()` devuelve un objeto \"History\" que contiene los parámetros de entrenamiento (history.params), la lista de épocas por las que pasó (history.epoch) y, lo más importante, un diccionario (history.history) que contiene la pérdida y las métricas adicionales que midió al final de cada época en el conjunto de entrenamiento y en el conjunto de validación (si corresponde). \n",
        "\n",
        "usando la librería Pandas y matplotlib podemos visualizar las curvas de aprendizaje"
      ]
    },
    {
      "cell_type": "code",
      "metadata": {
        "id": "52WttEpwG54_"
      },
      "source": [
        "import pandas as pd"
      ],
      "execution_count": null,
      "outputs": []
    },
    {
      "cell_type": "code",
      "metadata": {
        "id": "KYZ7lfbOJ5C6",
        "colab": {
          "base_uri": "https://localhost:8080/",
          "height": 206
        },
        "outputId": "ffb8be6f-fcfe-41fa-a4b5-759b664480c8"
      },
      "source": [
        "df=pd.DataFrame(history.history)\n",
        "df.head()"
      ],
      "execution_count": null,
      "outputs": [
        {
          "output_type": "execute_result",
          "data": {
            "text/plain": [
              "       loss  accuracy  val_loss  val_accuracy\n",
              "0  0.711077  0.769036  0.518094        0.8184\n",
              "1  0.490372  0.830400  0.450417        0.8486\n",
              "2  0.445436  0.842836  0.410235        0.8610\n",
              "3  0.416660  0.854218  0.406940        0.8558\n",
              "4  0.395743  0.860418  0.394776        0.8634"
            ],
            "text/html": [
              "\n",
              "  <div id=\"df-f45feace-f30b-4c8f-9526-752248de049d\">\n",
              "    <div class=\"colab-df-container\">\n",
              "      <div>\n",
              "<style scoped>\n",
              "    .dataframe tbody tr th:only-of-type {\n",
              "        vertical-align: middle;\n",
              "    }\n",
              "\n",
              "    .dataframe tbody tr th {\n",
              "        vertical-align: top;\n",
              "    }\n",
              "\n",
              "    .dataframe thead th {\n",
              "        text-align: right;\n",
              "    }\n",
              "</style>\n",
              "<table border=\"1\" class=\"dataframe\">\n",
              "  <thead>\n",
              "    <tr style=\"text-align: right;\">\n",
              "      <th></th>\n",
              "      <th>loss</th>\n",
              "      <th>accuracy</th>\n",
              "      <th>val_loss</th>\n",
              "      <th>val_accuracy</th>\n",
              "    </tr>\n",
              "  </thead>\n",
              "  <tbody>\n",
              "    <tr>\n",
              "      <th>0</th>\n",
              "      <td>0.711077</td>\n",
              "      <td>0.769036</td>\n",
              "      <td>0.518094</td>\n",
              "      <td>0.8184</td>\n",
              "    </tr>\n",
              "    <tr>\n",
              "      <th>1</th>\n",
              "      <td>0.490372</td>\n",
              "      <td>0.830400</td>\n",
              "      <td>0.450417</td>\n",
              "      <td>0.8486</td>\n",
              "    </tr>\n",
              "    <tr>\n",
              "      <th>2</th>\n",
              "      <td>0.445436</td>\n",
              "      <td>0.842836</td>\n",
              "      <td>0.410235</td>\n",
              "      <td>0.8610</td>\n",
              "    </tr>\n",
              "    <tr>\n",
              "      <th>3</th>\n",
              "      <td>0.416660</td>\n",
              "      <td>0.854218</td>\n",
              "      <td>0.406940</td>\n",
              "      <td>0.8558</td>\n",
              "    </tr>\n",
              "    <tr>\n",
              "      <th>4</th>\n",
              "      <td>0.395743</td>\n",
              "      <td>0.860418</td>\n",
              "      <td>0.394776</td>\n",
              "      <td>0.8634</td>\n",
              "    </tr>\n",
              "  </tbody>\n",
              "</table>\n",
              "</div>\n",
              "      <button class=\"colab-df-convert\" onclick=\"convertToInteractive('df-f45feace-f30b-4c8f-9526-752248de049d')\"\n",
              "              title=\"Convert this dataframe to an interactive table.\"\n",
              "              style=\"display:none;\">\n",
              "        \n",
              "  <svg xmlns=\"http://www.w3.org/2000/svg\" height=\"24px\"viewBox=\"0 0 24 24\"\n",
              "       width=\"24px\">\n",
              "    <path d=\"M0 0h24v24H0V0z\" fill=\"none\"/>\n",
              "    <path d=\"M18.56 5.44l.94 2.06.94-2.06 2.06-.94-2.06-.94-.94-2.06-.94 2.06-2.06.94zm-11 1L8.5 8.5l.94-2.06 2.06-.94-2.06-.94L8.5 2.5l-.94 2.06-2.06.94zm10 10l.94 2.06.94-2.06 2.06-.94-2.06-.94-.94-2.06-.94 2.06-2.06.94z\"/><path d=\"M17.41 7.96l-1.37-1.37c-.4-.4-.92-.59-1.43-.59-.52 0-1.04.2-1.43.59L10.3 9.45l-7.72 7.72c-.78.78-.78 2.05 0 2.83L4 21.41c.39.39.9.59 1.41.59.51 0 1.02-.2 1.41-.59l7.78-7.78 2.81-2.81c.8-.78.8-2.07 0-2.86zM5.41 20L4 18.59l7.72-7.72 1.47 1.35L5.41 20z\"/>\n",
              "  </svg>\n",
              "      </button>\n",
              "      \n",
              "  <style>\n",
              "    .colab-df-container {\n",
              "      display:flex;\n",
              "      flex-wrap:wrap;\n",
              "      gap: 12px;\n",
              "    }\n",
              "\n",
              "    .colab-df-convert {\n",
              "      background-color: #E8F0FE;\n",
              "      border: none;\n",
              "      border-radius: 50%;\n",
              "      cursor: pointer;\n",
              "      display: none;\n",
              "      fill: #1967D2;\n",
              "      height: 32px;\n",
              "      padding: 0 0 0 0;\n",
              "      width: 32px;\n",
              "    }\n",
              "\n",
              "    .colab-df-convert:hover {\n",
              "      background-color: #E2EBFA;\n",
              "      box-shadow: 0px 1px 2px rgba(60, 64, 67, 0.3), 0px 1px 3px 1px rgba(60, 64, 67, 0.15);\n",
              "      fill: #174EA6;\n",
              "    }\n",
              "\n",
              "    [theme=dark] .colab-df-convert {\n",
              "      background-color: #3B4455;\n",
              "      fill: #D2E3FC;\n",
              "    }\n",
              "\n",
              "    [theme=dark] .colab-df-convert:hover {\n",
              "      background-color: #434B5C;\n",
              "      box-shadow: 0px 1px 3px 1px rgba(0, 0, 0, 0.15);\n",
              "      filter: drop-shadow(0px 1px 2px rgba(0, 0, 0, 0.3));\n",
              "      fill: #FFFFFF;\n",
              "    }\n",
              "  </style>\n",
              "\n",
              "      <script>\n",
              "        const buttonEl =\n",
              "          document.querySelector('#df-f45feace-f30b-4c8f-9526-752248de049d button.colab-df-convert');\n",
              "        buttonEl.style.display =\n",
              "          google.colab.kernel.accessAllowed ? 'block' : 'none';\n",
              "\n",
              "        async function convertToInteractive(key) {\n",
              "          const element = document.querySelector('#df-f45feace-f30b-4c8f-9526-752248de049d');\n",
              "          const dataTable =\n",
              "            await google.colab.kernel.invokeFunction('convertToInteractive',\n",
              "                                                     [key], {});\n",
              "          if (!dataTable) return;\n",
              "\n",
              "          const docLinkHtml = 'Like what you see? Visit the ' +\n",
              "            '<a target=\"_blank\" href=https://colab.research.google.com/notebooks/data_table.ipynb>data table notebook</a>'\n",
              "            + ' to learn more about interactive tables.';\n",
              "          element.innerHTML = '';\n",
              "          dataTable['output_type'] = 'display_data';\n",
              "          await google.colab.output.renderOutput(dataTable, element);\n",
              "          const docLink = document.createElement('div');\n",
              "          docLink.innerHTML = docLinkHtml;\n",
              "          element.appendChild(docLink);\n",
              "        }\n",
              "      </script>\n",
              "    </div>\n",
              "  </div>\n",
              "  "
            ]
          },
          "metadata": {},
          "execution_count": 51
        }
      ]
    },
    {
      "cell_type": "code",
      "metadata": {
        "id": "iZ__dzEIJ6V6",
        "colab": {
          "base_uri": "https://localhost:8080/",
          "height": 337
        },
        "outputId": "96ec98a8-4a04-4f97-946f-5606864ff351"
      },
      "source": [
        "df.plot(figsize=(8, 5))"
      ],
      "execution_count": null,
      "outputs": [
        {
          "output_type": "execute_result",
          "data": {
            "text/plain": [
              "<matplotlib.axes._subplots.AxesSubplot at 0x7f083cbc3510>"
            ]
          },
          "metadata": {},
          "execution_count": 52
        },
        {
          "output_type": "display_data",
          "data": {
            "text/plain": [
              "<Figure size 576x360 with 1 Axes>"
            ],
            "image/png": "[encoded data removed]"
          },
          "metadata": {
            "needs_background": "light"
          }
        }
      ]
    },
    {
      "cell_type": "markdown",
      "metadata": {
        "id": "cThjfX67LHeP"
      },
      "source": [
        "Se puede ver que tanto la precisión de entrenamiento como la de validación aumentan constantemente durante el entrenamiento, mientras que la pérdida de entrenamiento y validación disminuye. Ademas , las curvas de validación están bastante cerca de las curvas de entrenamiento, lo que significa que no hay demasiado sobreajuste(overfitting).\n",
        "\n",
        "Ahora usemos el modelo ya entrenado sobre nuestros datos de prueba (X_test)"
      ]
    },
    {
      "cell_type": "code",
      "metadata": {
        "id": "KN71bQZOJ83U",
        "colab": {
          "base_uri": "https://localhost:8080/"
        },
        "outputId": "ea384b40-b145-4445-e4d0-7a8a4d051702"
      },
      "source": [
        "model.evaluate(X_test,y_test)"
      ],
      "execution_count": null,
      "outputs": [
        {
          "output_type": "stream",
          "name": "stdout",
          "text": [
            "313/313 [==============================] - 1s 2ms/step - loss: 0.3529 - accuracy: 0.8753\n"
          ]
        },
        {
          "output_type": "execute_result",
          "data": {
            "text/plain": [
              "[0.35286077857017517, 0.8752999901771545]"
            ]
          },
          "metadata": {},
          "execution_count": 53
        }
      ]
    },
    {
      "cell_type": "markdown",
      "metadata": {
        "id": "e4Wa6T_POcT2"
      },
      "source": [
        "## Usando el modelo para hacer predicciones\n",
        "\n",
        "Ahora, podemos usar el método `predict()` para hacer predicciones sobre nuevas instancias. Como no tenemos instancias nuevas reales, solo usaremos las primeras 3 instancias del conjunto de prueba:"
      ]
    },
    {
      "cell_type": "code",
      "metadata": {
        "id": "2qt8Ros2OUNi",
        "colab": {
          "base_uri": "https://localhost:8080/"
        },
        "outputId": "a0d69251-a04c-4417-bd06-712290c77d12"
      },
      "source": [
        "X_new = X_test[:3]\n",
        "y_proba = model.predict(X_new)\n",
        "y_proba.round(2)"
      ],
      "execution_count": null,
      "outputs": [
        {
          "output_type": "execute_result",
          "data": {
            "text/plain": [
              "array([[0.  , 0.  , 0.  , 0.  , 0.  , 0.01, 0.  , 0.01, 0.  , 0.98],\n",
              "       [0.  , 0.  , 0.99, 0.  , 0.  , 0.  , 0.01, 0.  , 0.  , 0.  ],\n",
              "       [0.  , 1.  , 0.  , 0.  , 0.  , 0.  , 0.  , 0.  , 0.  , 0.  ]],\n",
              "      dtype=float32)"
            ]
          },
          "metadata": {},
          "execution_count": 54
        }
      ]
    },
    {
      "cell_type": "markdown",
      "metadata": {
        "id": "3KUjmrVsPLhS"
      },
      "source": [
        "Como puede ver, para cada caso, el modelo estima una probabilidad por clase, desde la clase 0 hasta la clase 9. Si solo le importa la clase con la probabilidad estimada más alta (incluso si esa probabilidad es bastante baja), puede usar el método pre `dict_classes()` en su lugar"
      ]
    },
    {
      "cell_type": "code",
      "metadata": {
        "id": "CuE10X4IOxxo",
        "colab": {
          "base_uri": "https://localhost:8080/"
        },
        "outputId": "12df2e28-088b-4fc4-83bc-82c6232c72ed"
      },
      "source": [
        "y_pred = model.predict(X_new)\n",
        "y_pred"
      ],
      "execution_count": null,
      "outputs": [
        {
          "output_type": "execute_result",
          "data": {
            "text/plain": [
              "array([[1.8819741e-05, 6.1818469e-07, 1.2999151e-06, 4.6563696e-06,\n",
              "        3.4207922e-06, 9.2529310e-03, 1.4189340e-05, 1.2924053e-02,\n",
              "        5.7272631e-04, 9.7720736e-01],\n",
              "       [4.1610921e-05, 7.6605895e-09, 9.8869926e-01, 1.3577718e-06,\n",
              "        1.6950408e-03, 8.7661350e-10, 9.5625622e-03, 1.7476548e-10,\n",
              "        8.9789410e-08, 1.9004864e-11],\n",
              "       [3.0400017e-05, 9.9995744e-01, 1.6993195e-06, 7.0961137e-06,\n",
              "        3.1522795e-06, 1.1816392e-10, 1.7710305e-07, 4.9834483e-08,\n",
              "        5.1888009e-08, 4.1085111e-11]], dtype=float32)"
            ]
          },
          "metadata": {},
          "execution_count": 60
        }
      ]
    },
    {
      "cell_type": "code",
      "metadata": {
        "id": "GGKdB6FaPqEP",
        "colab": {
          "base_uri": "https://localhost:8080/"
        },
        "outputId": "1a61e0fb-2c0b-49b7-9778-ce017d7df8b4"
      },
      "source": [
        "np.array(y_pred)"
      ],
      "execution_count": null,
      "outputs": [
        {
          "output_type": "execute_result",
          "data": {
            "text/plain": [
              "array([[0., 0., 0., 0., 0., 0., 0., 0., 1., 0.]], dtype=float32)"
            ]
          },
          "metadata": {},
          "execution_count": 80
        }
      ]
    },
    {
      "cell_type": "code",
      "metadata": {
        "id": "UdUs8OBrPrkQ",
        "colab": {
          "base_uri": "https://localhost:8080/"
        },
        "outputId": "ea9d3a4d-fedf-4ff7-a4e8-2b2be43c4e7d"
      },
      "source": [
        "y_new = y_test[:3]\n",
        "y_new"
      ],
      "execution_count": null,
      "outputs": [
        {
          "output_type": "execute_result",
          "data": {
            "text/plain": [
              "array([9, 2, 1], dtype=uint8)"
            ]
          },
          "metadata": {},
          "execution_count": 62
        }
      ]
    },
    {
      "cell_type": "code",
      "metadata": {
        "id": "DzpyRq4BPs9Q",
        "colab": {
          "base_uri": "https://localhost:8080/",
          "height": 165
        },
        "outputId": "4385406e-e338-437f-f66e-b848d3c55e5d"
      },
      "source": [
        "plt.figure(figsize=(7.2, 2.4))\n",
        "for index, image in enumerate(X_new):\n",
        "    plt.subplot(1, 3, index + 1)\n",
        "    plt.imshow(image, cmap=\"binary\", interpolation=\"nearest\")\n",
        "    plt.axis('off')\n",
        "    plt.title(class_names[y_test[index]], fontsize=12)"
      ],
      "execution_count": null,
      "outputs": [
        {
          "output_type": "display_data",
          "data": {
            "text/plain": [
              "<Figure size 518.4x172.8 with 3 Axes>"
            ],
            "image/png": "[encoded data removed]"
          },
          "metadata": {
            "needs_background": "light"
          }
        }
      ]
    },
    {
      "cell_type": "markdown",
      "metadata": {
        "id": "jtQYTx1xtxRj"
      },
      "source": [
        "## Reto "
      ]
    },
    {
      "cell_type": "markdown",
      "metadata": {
        "id": "IoLkVlT6uWt4"
      },
      "source": [
        "Suba una imagen propia y haga una predicción usando el modelo entrenado"
      ]
    },
    {
      "cell_type": "code",
      "source": [
        "from google.colab import files\n",
        "uploaded = files.upload()\n",
        "#Usando OpenCV\n",
        "import cv2\n",
        "data = cv2.imread(\"img.jpg\",cv2.IMREAD_GRAYSCALE)\n",
        "data = cv2.resize(data,(28,28))\n",
        "#Predecir\n",
        "y_pred = model.predict(data.reshape(1,28,28))"
      ],
      "metadata": {
        "colab": {
          "resources": {
            "http://localhost:8080/nbextensions/google.colab/files.js": {
              "data": "Ly8gQ29weXJpZ2h0IDIwMTcgR29vZ2xlIExMQwovLwovLyBMaWNlbnNlZCB1bmRlciB0aGUgQXBhY2hlIExpY2Vuc2UsIFZlcnNpb24gMi4wICh0aGUgIkxpY2Vuc2UiKTsKLy8geW91IG1heSBub3QgdXNlIHRoaXMgZmlsZSBleGNlcHQgaW4gY29tcGxpYW5jZSB3aXRoIHRoZSBMaWNlbnNlLgovLyBZb3UgbWF5IG9idGFpbiBhIGNvcHkgb2YgdGhlIExpY2Vuc2UgYXQKLy8KLy8gICAgICBodHRwOi8vd3d3LmFwYWNoZS5vcmcvbGljZW5zZXMvTElDRU5TRS0yLjAKLy8KLy8gVW5sZXNzIHJlcXVpcmVkIGJ5IGFwcGxpY2FibGUgbGF3IG9yIGFncmVlZCB0byBpbiB3cml0aW5nLCBzb2Z0d2FyZQovLyBkaXN0cmlidXRlZCB1bmRlciB0aGUgTGljZW5zZSBpcyBkaXN0cmlidXRlZCBvbiBhbiAiQVMgSVMiIEJBU0lTLAovLyBXSVRIT1VUIFdBUlJBTlRJRVMgT1IgQ09ORElUSU9OUyBPRiBBTlkgS0lORCwgZWl0aGVyIGV4cHJlc3Mgb3IgaW1wbGllZC4KLy8gU2VlIHRoZSBMaWNlbnNlIGZvciB0aGUgc3BlY2lmaWMgbGFuZ3VhZ2UgZ292ZXJuaW5nIHBlcm1pc3Npb25zIGFuZAovLyBsaW1pdGF0aW9ucyB1bmRlciB0aGUgTGljZW5zZS4KCi8qKgogKiBAZmlsZW92ZXJ2aWV3IEhlbHBlcnMgZm9yIGdvb2dsZS5jb2xhYiBQeXRob24gbW9kdWxlLgogKi8KKGZ1bmN0aW9uKHNjb3BlKSB7CmZ1bmN0aW9uIHNwYW4odGV4dCwgc3R5bGVBdHRyaWJ1dGVzID0ge30pIHsKICBjb25zdCBlbGVtZW50ID0gZG9jdW1lbnQuY3JlYXRlRWxlbWVudCgnc3BhbicpOwogIGVsZW1lbnQudGV4dENvbnRlbnQgPSB0ZXh0OwogIGZvciAoY29uc3Qga2V5IG9mIE9iamVjdC5rZXlzKHN0eWxlQXR0cmlidXRlcykpIHsKICAgIGVsZW1lbnQuc3R5bGVba2V5XSA9IHN0eWxlQXR0cmlidXRlc1trZXldOwogIH0KICByZXR1cm4gZWxlbWVudDsKfQoKLy8gTWF4IG51bWJlciBvZiBieXRlcyB3aGljaCB3aWxsIGJlIHVwbG9hZGVkIGF0IGEgdGltZS4KY29uc3QgTUFYX1BBWUxPQURfU0laRSA9IDEwMCAqIDEwMjQ7CgpmdW5jdGlvbiBfdXBsb2FkRmlsZXMoaW5wdXRJZCwgb3V0cHV0SWQpIHsKICBjb25zdCBzdGVwcyA9IHVwbG9hZEZpbGVzU3RlcChpbnB1dElkLCBvdXRwdXRJZCk7CiAgY29uc3Qgb3V0cHV0RWxlbWVudCA9IGRvY3VtZW50LmdldEVsZW1lbnRCeUlkKG91dHB1dElkKTsKICAvLyBDYWNoZSBzdGVwcyBvbiB0aGUgb3V0cHV0RWxlbWVudCB0byBtYWtlIGl0IGF2YWlsYWJsZSBmb3IgdGhlIG5leHQgY2FsbAogIC8vIHRvIHVwbG9hZEZpbGVzQ29udGludWUgZnJvbSBQeXRob24uCiAgb3V0cHV0RWxlbWVudC5zdGVwcyA9IHN0ZXBzOwoKICByZXR1cm4gX3VwbG9hZEZpbGVzQ29udGludWUob3V0cHV0SWQpOwp9CgovLyBUaGlzIGlzIHJvdWdobHkgYW4gYXN5bmMgZ2VuZXJhdG9yIChub3Qgc3VwcG9ydGVkIGluIHRoZSBicm93c2VyIHlldCksCi8vIHdoZXJlIHRoZXJlIGFyZSBtdWx0aXBsZSBhc3luY2hyb25vdXMgc3RlcHMgYW5kIHRoZSBQeXRob24gc2lkZSBpcyBnb2luZwovLyB0byBwb2xsIGZvciBjb21wbGV0aW9uIG9mIGVhY2ggc3RlcC4KLy8gVGhpcyB1c2VzIGEgUHJvbWlzZSB0byBibG9jayB0aGUgcHl0aG9uIHNpZGUgb24gY29tcGxldGlvbiBvZiBlYWNoIHN0ZXAsCi8vIHRoZW4gcGFzc2VzIHRoZSByZXN1bHQgb2YgdGhlIHByZXZpb3VzIHN0ZXAgYXMgdGhlIGlucHV0IHRvIHRoZSBuZXh0IHN0ZXAuCmZ1bmN0aW9uIF91cGxvYWRGaWxlc0NvbnRpbnVlKG91dHB1dElkKSB7CiAgY29uc3Qgb3V0cHV0RWxlbWVudCA9IGRvY3VtZW50LmdldEVsZW1lbnRCeUlkKG91dHB1dElkKTsKICBjb25zdCBzdGVwcyA9IG91dHB1dEVsZW1lbnQuc3RlcHM7CgogIGNvbnN0IG5leHQgPSBzdGVwcy5uZXh0KG91dHB1dEVsZW1lbnQubGFzdFByb21pc2VWYWx1ZSk7CiAgcmV0dXJuIFByb21pc2UucmVzb2x2ZShuZXh0LnZhbHVlLnByb21pc2UpLnRoZW4oKHZhbHVlKSA9PiB7CiAgICAvLyBDYWNoZSB0aGUgbGFzdCBwcm9taXNlIHZhbHVlIHRvIG1ha2UgaXQgYXZhaWxhYmxlIHRvIHRoZSBuZXh0CiAgICAvLyBzdGVwIG9mIHRoZSBnZW5lcmF0b3IuCiAgICBvdXRwdXRFbGVtZW50Lmxhc3RQcm9taXNlVmFsdWUgPSB2YWx1ZTsKICAgIHJldHVybiBuZXh0LnZhbHVlLnJlc3BvbnNlOwogIH0pOwp9CgovKioKICogR2VuZXJhdG9yIGZ1bmN0aW9uIHdoaWNoIGlzIGNhbGxlZCBiZXR3ZWVuIGVhY2ggYXN5bmMgc3RlcCBvZiB0aGUgdXBsb2FkCiAqIHByb2Nlc3MuCiAqIEBwYXJhbSB7c3RyaW5nfSBpbnB1dElkIEVsZW1lbnQgSUQgb2YgdGhlIGlucHV0IGZpbGUgcGlja2VyIGVsZW1lbnQuCiAqIEBwYXJhbSB7c3RyaW5nfSBvdXRwdXRJZCBFbGVtZW50IElEIG9mIHRoZSBvdXRwdXQgZGlzcGxheS4KICogQHJldHVybiB7IUl0ZXJhYmxlPCFPYmplY3Q+fSBJdGVyYWJsZSBvZiBuZXh0IHN0ZXBzLgogKi8KZnVuY3Rpb24qIHVwbG9hZEZpbGVzU3RlcChpbnB1dElkLCBvdXRwdXRJZCkgewogIGNvbnN0IGlucHV0RWxlbWVudCA9IGRvY3VtZW50LmdldEVsZW1lbnRCeUlkKGlucHV0SWQpOwogIGlucHV0RWxlbWVudC5kaXNhYmxlZCA9IGZhbHNlOwoKICBjb25zdCBvdXRwdXRFbGVtZW50ID0gZG9jdW1lbnQuZ2V0RWxlbWVudEJ5SWQob3V0cHV0SWQpOwogIG91dHB1dEVsZW1lbnQuaW5uZXJIVE1MID0gJyc7CgogIGNvbnN0IHBpY2tlZFByb21pc2UgPSBuZXcgUHJvbWlzZSgocmVzb2x2ZSkgPT4gewogICAgaW5wdXRFbGVtZW50LmFkZEV2ZW50TGlzdGVuZXIoJ2NoYW5nZScsIChlKSA9PiB7CiAgICAgIHJlc29sdmUoZS50YXJnZXQuZmlsZXMpOwogICAgfSk7CiAgfSk7CgogIGNvbnN0IGNhbmNlbCA9IGRvY3VtZW50LmNyZWF0ZUVsZW1lbnQoJ2J1dHRvbicpOwogIGlucHV0RWxlbWVudC5wYXJlbnRFbGVtZW50LmFwcGVuZENoaWxkKGNhbmNlbCk7CiAgY2FuY2VsLnRleHRDb250ZW50ID0gJ0NhbmNlbCB1cGxvYWQnOwogIGNvbnN0IGNhbmNlbFByb21pc2UgPSBuZXcgUHJvbWlzZSgocmVzb2x2ZSkgPT4gewogICAgY2FuY2VsLm9uY2xpY2sgPSAoKSA9PiB7CiAgICAgIHJlc29sdmUobnVsbCk7CiAgICB9OwogIH0pOwoKICAvLyBXYWl0IGZvciB0aGUgdXNlciB0byBwaWNrIHRoZSBmaWxlcy4KICBjb25zdCBmaWxlcyA9IHlpZWxkIHsKICAgIHByb21pc2U6IFByb21pc2UucmFjZShbcGlja2VkUHJvbWlzZSwgY2FuY2VsUHJvbWlzZV0pLAogICAgcmVzcG9uc2U6IHsKICAgICAgYWN0aW9uOiAnc3RhcnRpbmcnLAogICAgfQogIH07CgogIGNhbmNlbC5yZW1vdmUoKTsKCiAgLy8gRGlzYWJsZSB0aGUgaW5wdXQgZWxlbWVudCBzaW5jZSBmdXJ0aGVyIHBpY2tzIGFyZSBub3QgYWxsb3dlZC4KICBpbnB1dEVsZW1lbnQuZGlzYWJsZWQgPSB0cnVlOwoKICBpZiAoIWZpbGVzKSB7CiAgICByZXR1cm4gewogICAgICByZXNwb25zZTogewogICAgICAgIGFjdGlvbjogJ2NvbXBsZXRlJywKICAgICAgfQogICAgfTsKICB9CgogIGZvciAoY29uc3QgZmlsZSBvZiBmaWxlcykgewogICAgY29uc3QgbGkgPSBkb2N1bWVudC5jcmVhdGVFbGVtZW50KCdsaScpOwogICAgbGkuYXBwZW5kKHNwYW4oZmlsZS5uYW1lLCB7Zm9udFdlaWdodDogJ2JvbGQnfSkpOwogICAgbGkuYXBwZW5kKHNwYW4oCiAgICAgICAgYCgke2ZpbGUudHlwZSB8fCAnbi9hJ30pIC0gJHtmaWxlLnNpemV9IGJ5dGVzLCBgICsKICAgICAgICBgbGFzdCBtb2RpZmllZDogJHsKICAgICAgICAgICAgZmlsZS5sYXN0TW9kaWZpZWREYXRlID8gZmlsZS5sYXN0TW9kaWZpZWREYXRlLnRvTG9jYWxlRGF0ZVN0cmluZygpIDoKICAgICAgICAgICAgICAgICAgICAgICAgICAgICAgICAgICAgJ24vYSd9IC0gYCkpOwogICAgY29uc3QgcGVyY2VudCA9IHNwYW4oJzAlIGRvbmUnKTsKICAgIGxpLmFwcGVuZENoaWxkKHBlcmNlbnQpOwoKICAgIG91dHB1dEVsZW1lbnQuYXBwZW5kQ2hpbGQobGkpOwoKICAgIGNvbnN0IGZpbGVEYXRhUHJvbWlzZSA9IG5ldyBQcm9taXNlKChyZXNvbHZlKSA9PiB7CiAgICAgIGNvbnN0IHJlYWRlciA9IG5ldyBGaWxlUmVhZGVyKCk7CiAgICAgIHJlYWRlci5vbmxvYWQgPSAoZSkgPT4gewogICAgICAgIHJlc29sdmUoZS50YXJnZXQucmVzdWx0KTsKICAgICAgfTsKICAgICAgcmVhZGVyLnJlYWRBc0FycmF5QnVmZmVyKGZpbGUpOwogICAgfSk7CiAgICAvLyBXYWl0IGZvciB0aGUgZGF0YSB0byBiZSByZWFkeS4KICAgIGxldCBmaWxlRGF0YSA9IHlpZWxkIHsKICAgICAgcHJvbWlzZTogZmlsZURhdGFQcm9taXNlLAogICAgICByZXNwb25zZTogewogICAgICAgIGFjdGlvbjogJ2NvbnRpbnVlJywKICAgICAgfQogICAgfTsKCiAgICAvLyBVc2UgYSBjaHVua2VkIHNlbmRpbmcgdG8gYXZvaWQgbWVzc2FnZSBzaXplIGxpbWl0cy4gU2VlIGIvNjIxMTU2NjAuCiAgICBsZXQgcG9zaXRpb24gPSAwOwogICAgZG8gewogICAgICBjb25zdCBsZW5ndGggPSBNYXRoLm1pbihmaWxlRGF0YS5ieXRlTGVuZ3RoIC0gcG9zaXRpb24sIE1BWF9QQVlMT0FEX1NJWkUpOwogICAgICBjb25zdCBjaHVuayA9IG5ldyBVaW50OEFycmF5KGZpbGVEYXRhLCBwb3NpdGlvbiwgbGVuZ3RoKTsKICAgICAgcG9zaXRpb24gKz0gbGVuZ3RoOwoKICAgICAgY29uc3QgYmFzZTY0ID0gYnRvYShTdHJpbmcuZnJvbUNoYXJDb2RlLmFwcGx5KG51bGwsIGNodW5rKSk7CiAgICAgIHlpZWxkIHsKICAgICAgICByZXNwb25zZTogewogICAgICAgICAgYWN0aW9uOiAnYXBwZW5kJywKICAgICAgICAgIGZpbGU6IGZpbGUubmFtZSwKICAgICAgICAgIGRhdGE6IGJhc2U2NCwKICAgICAgICB9LAogICAgICB9OwoKICAgICAgbGV0IHBlcmNlbnREb25lID0gZmlsZURhdGEuYnl0ZUxlbmd0aCA9PT0gMCA/CiAgICAgICAgICAxMDAgOgogICAgICAgICAgTWF0aC5yb3VuZCgocG9zaXRpb24gLyBmaWxlRGF0YS5ieXRlTGVuZ3RoKSAqIDEwMCk7CiAgICAgIHBlcmNlbnQudGV4dENvbnRlbnQgPSBgJHtwZXJjZW50RG9uZX0lIGRvbmVgOwoKICAgIH0gd2hpbGUgKHBvc2l0aW9uIDwgZmlsZURhdGEuYnl0ZUxlbmd0aCk7CiAgfQoKICAvLyBBbGwgZG9uZS4KICB5aWVsZCB7CiAgICByZXNwb25zZTogewogICAgICBhY3Rpb246ICdjb21wbGV0ZScsCiAgICB9CiAgfTsKfQoKc2NvcGUuZ29vZ2xlID0gc2NvcGUuZ29vZ2xlIHx8IHt9OwpzY29wZS5nb29nbGUuY29sYWIgPSBzY29wZS5nb29nbGUuY29sYWIgfHwge307CnNjb3BlLmdvb2dsZS5jb2xhYi5fZmlsZXMgPSB7CiAgX3VwbG9hZEZpbGVzLAogIF91cGxvYWRGaWxlc0NvbnRpbnVlLAp9Owp9KShzZWxmKTsK",
              "ok": true,
              "headers": [
                [
                  "content-type",
                  "application/javascript"
                ]
              ],
              "status": 200,
              "status_text": ""
            }
          },
          "base_uri": "https://localhost:8080/",
          "height": 73
        },
        "id": "PSY5JG0fSV0b",
        "outputId": "217a641b-7427-41ce-b533-db7bc43c06d7"
      },
      "execution_count": null,
      "outputs": [
        {
          "output_type": "display_data",
          "data": {
            "text/plain": [
              "<IPython.core.display.HTML object>"
            ],
            "text/html": [
              "\n",
              "     <input type=\"file\" id=\"files-2f20819f-df29-4e18-b6a2-c5288bf90c50\" name=\"files[]\" multiple disabled\n",
              "        style=\"border:none\" />\n",
              "     <output id=\"result-2f20819f-df29-4e18-b6a2-c5288bf90c50\">\n",
              "      Upload widget is only available when the cell has been executed in the\n",
              "      current browser session. Please rerun this cell to enable.\n",
              "      </output>\n",
              "      <script src=\"/nbextensions/google.colab/files.js\"></script> "
            ]
          },
          "metadata": {}
        },
        {
          "output_type": "stream",
          "name": "stdout",
          "text": [
            "Saving img.jpg to img (2).jpg\n"
          ]
        }
      ]
    },
    {
      "cell_type": "markdown",
      "metadata": {
        "id": "kh67NgAhvmTk"
      },
      "source": [
        "Haga click **aquí** si tiene problemas con la solución:\n",
        "\n",
        "<!-----\n",
        "from google.colab import files\n",
        "uploaded = files.upload()\n",
        "#Usando OpenCV\n",
        "import cv2\n",
        "data = cv2.imread(\"img.jpg\",cv2.IMREAD_GRAYSCALE)\n",
        "data = cv2.resize(data,(28,28))\n",
        "#Predecir\n",
        "y_pred = model.predict_classes(X_new.reshape(1,28,28))\n",
        "----->"
      ]
    }
  ]
}